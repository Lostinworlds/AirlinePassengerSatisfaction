{
 "cells": [
  {
   "cell_type": "markdown",
   "id": "c37ef6cb",
   "metadata": {
    "papermill": {
     "duration": 0.012068,
     "end_time": "2022-07-29T10:20:25.444226",
     "exception": false,
     "start_time": "2022-07-29T10:20:25.432158",
     "status": "completed"
    },
    "tags": []
   },
   "source": [
    "*Author's comment: If you liked my work, please dont forget to upvote.*"
   ]
  },
  {
   "cell_type": "markdown",
   "id": "0c161809",
   "metadata": {
    "papermill": {
     "duration": 0.010455,
     "end_time": "2022-07-29T10:20:25.465634",
     "exception": false,
     "start_time": "2022-07-29T10:20:25.455179",
     "status": "completed"
    },
    "tags": []
   },
   "source": [
    "# Introduction\n",
    "Previously, in part one of this project, through EDA and data visualisation, factors affecting passengers’ overall satisfaction was examined. It revealed that passengers who were travelling for non-business purposes found the service poor. However, if faced with a particularly difficult stakeholder, more evidence may be needed to emphasis on improvements. As such, in this project, the data will be modelled to assess how predictable passengers’ overall level of satisfaction was relative to them and their experience of various services. The purpose of this is to further emphasise that the outcomes of the satisfaction are predictable and not random. "
   ]
  },
  {
   "cell_type": "code",
   "execution_count": 1,
   "id": "e6c2958a",
   "metadata": {
    "_cell_guid": "b1076dfc-b9ad-4769-8c92-a6c4dae69d19",
    "_uuid": "8f2839f25d086af736a60e9eeb907d3b93b6e0e5",
    "execution": {
     "iopub.execute_input": "2022-07-29T10:20:25.489132Z",
     "iopub.status.busy": "2022-07-29T10:20:25.488735Z",
     "iopub.status.idle": "2022-07-29T10:20:26.960441Z",
     "shell.execute_reply": "2022-07-29T10:20:26.959554Z"
    },
    "papermill": {
     "duration": 1.486384,
     "end_time": "2022-07-29T10:20:26.962985",
     "exception": false,
     "start_time": "2022-07-29T10:20:25.476601",
     "status": "completed"
    },
    "tags": []
   },
   "outputs": [
    {
     "name": "stdout",
     "output_type": "stream",
     "text": [
      "/kaggle/input/airline-passenger-satisfaction/train.csv\n",
      "/kaggle/input/airline-passenger-satisfaction/test.csv\n"
     ]
    }
   ],
   "source": [
    "# libraries for data handling\n",
    "import numpy as np \n",
    "import pandas as pd \n",
    "\n",
    "# kaggle specific library for reading data\n",
    "import os\n",
    "for dirname, _, filenames in os.walk('/kaggle/input'):\n",
    "    for filename in filenames:\n",
    "        print(os.path.join(dirname, filename))\n",
    "\n",
    "# libraries for data visualisation \n",
    "import matplotlib.pyplot as plt\n",
    "import seaborn as sns\n",
    "\n",
    "#set style of graphs\n",
    "sns.set_style(\"whitegrid\")\n",
    "\n",
    "\n",
    "from sklearn.linear_model import LogisticRegression\n",
    "from sklearn.svm import SVC\n",
    "from sklearn.ensemble import RandomForestClassifier\n",
    "from sklearn.model_selection import cross_val_score\n",
    "from sklearn.neighbors import KNeighborsClassifier\n",
    "from sklearn.tree import DecisionTreeClassifier"
   ]
  },
  {
   "cell_type": "markdown",
   "id": "dd9fda04",
   "metadata": {
    "papermill": {
     "duration": 0.011055,
     "end_time": "2022-07-29T10:20:26.984948",
     "exception": false,
     "start_time": "2022-07-29T10:20:26.973893",
     "status": "completed"
    },
    "tags": []
   },
   "source": [
    "# Overview\n",
    "\n",
    "Below is the data following the transformations undertaken in the EDA. Some aspects of the coding have been altered for efficiency and the data visualisations have been removed. \n"
   ]
  },
  {
   "cell_type": "code",
   "execution_count": 2,
   "id": "f1499cb0",
   "metadata": {
    "execution": {
     "iopub.execute_input": "2022-07-29T10:20:27.009566Z",
     "iopub.status.busy": "2022-07-29T10:20:27.008898Z",
     "iopub.status.idle": "2022-07-29T10:20:27.434121Z",
     "shell.execute_reply": "2022-07-29T10:20:27.433261Z"
    },
    "papermill": {
     "duration": 0.439489,
     "end_time": "2022-07-29T10:20:27.436156",
     "exception": false,
     "start_time": "2022-07-29T10:20:26.996667",
     "status": "completed"
    },
    "tags": []
   },
   "outputs": [
    {
     "data": {
      "text/html": [
       "<div>\n",
       "<style scoped>\n",
       "    .dataframe tbody tr th:only-of-type {\n",
       "        vertical-align: middle;\n",
       "    }\n",
       "\n",
       "    .dataframe tbody tr th {\n",
       "        vertical-align: top;\n",
       "    }\n",
       "\n",
       "    .dataframe thead th {\n",
       "        text-align: right;\n",
       "    }\n",
       "</style>\n",
       "<table border=\"1\" class=\"dataframe\">\n",
       "  <thead>\n",
       "    <tr style=\"text-align: right;\">\n",
       "      <th></th>\n",
       "      <th>Unnamed: 0</th>\n",
       "      <th>id</th>\n",
       "      <th>Gender</th>\n",
       "      <th>Customer Type</th>\n",
       "      <th>Age</th>\n",
       "      <th>Type of Travel</th>\n",
       "      <th>Class</th>\n",
       "      <th>Flight Distance</th>\n",
       "      <th>Inflight wifi service</th>\n",
       "      <th>Departure/Arrival time convenient</th>\n",
       "      <th>...</th>\n",
       "      <th>Inflight entertainment</th>\n",
       "      <th>On-board service</th>\n",
       "      <th>Leg room service</th>\n",
       "      <th>Baggage handling</th>\n",
       "      <th>Checkin service</th>\n",
       "      <th>Inflight service</th>\n",
       "      <th>Cleanliness</th>\n",
       "      <th>Departure Delay in Minutes</th>\n",
       "      <th>Arrival Delay in Minutes</th>\n",
       "      <th>satisfaction</th>\n",
       "    </tr>\n",
       "  </thead>\n",
       "  <tbody>\n",
       "    <tr>\n",
       "      <th>0</th>\n",
       "      <td>0</td>\n",
       "      <td>70172</td>\n",
       "      <td>Male</td>\n",
       "      <td>Loyal Customer</td>\n",
       "      <td>13</td>\n",
       "      <td>Personal Travel</td>\n",
       "      <td>Eco Plus</td>\n",
       "      <td>460</td>\n",
       "      <td>3</td>\n",
       "      <td>4</td>\n",
       "      <td>...</td>\n",
       "      <td>5</td>\n",
       "      <td>4</td>\n",
       "      <td>3</td>\n",
       "      <td>4</td>\n",
       "      <td>4</td>\n",
       "      <td>5</td>\n",
       "      <td>5</td>\n",
       "      <td>25</td>\n",
       "      <td>18.0</td>\n",
       "      <td>neutral or dissatisfied</td>\n",
       "    </tr>\n",
       "    <tr>\n",
       "      <th>1</th>\n",
       "      <td>1</td>\n",
       "      <td>5047</td>\n",
       "      <td>Male</td>\n",
       "      <td>disloyal Customer</td>\n",
       "      <td>25</td>\n",
       "      <td>Business travel</td>\n",
       "      <td>Business</td>\n",
       "      <td>235</td>\n",
       "      <td>3</td>\n",
       "      <td>2</td>\n",
       "      <td>...</td>\n",
       "      <td>1</td>\n",
       "      <td>1</td>\n",
       "      <td>5</td>\n",
       "      <td>3</td>\n",
       "      <td>1</td>\n",
       "      <td>4</td>\n",
       "      <td>1</td>\n",
       "      <td>1</td>\n",
       "      <td>6.0</td>\n",
       "      <td>neutral or dissatisfied</td>\n",
       "    </tr>\n",
       "    <tr>\n",
       "      <th>2</th>\n",
       "      <td>2</td>\n",
       "      <td>110028</td>\n",
       "      <td>Female</td>\n",
       "      <td>Loyal Customer</td>\n",
       "      <td>26</td>\n",
       "      <td>Business travel</td>\n",
       "      <td>Business</td>\n",
       "      <td>1142</td>\n",
       "      <td>2</td>\n",
       "      <td>2</td>\n",
       "      <td>...</td>\n",
       "      <td>5</td>\n",
       "      <td>4</td>\n",
       "      <td>3</td>\n",
       "      <td>4</td>\n",
       "      <td>4</td>\n",
       "      <td>4</td>\n",
       "      <td>5</td>\n",
       "      <td>0</td>\n",
       "      <td>0.0</td>\n",
       "      <td>satisfied</td>\n",
       "    </tr>\n",
       "    <tr>\n",
       "      <th>3</th>\n",
       "      <td>3</td>\n",
       "      <td>24026</td>\n",
       "      <td>Female</td>\n",
       "      <td>Loyal Customer</td>\n",
       "      <td>25</td>\n",
       "      <td>Business travel</td>\n",
       "      <td>Business</td>\n",
       "      <td>562</td>\n",
       "      <td>2</td>\n",
       "      <td>5</td>\n",
       "      <td>...</td>\n",
       "      <td>2</td>\n",
       "      <td>2</td>\n",
       "      <td>5</td>\n",
       "      <td>3</td>\n",
       "      <td>1</td>\n",
       "      <td>4</td>\n",
       "      <td>2</td>\n",
       "      <td>11</td>\n",
       "      <td>9.0</td>\n",
       "      <td>neutral or dissatisfied</td>\n",
       "    </tr>\n",
       "    <tr>\n",
       "      <th>4</th>\n",
       "      <td>4</td>\n",
       "      <td>119299</td>\n",
       "      <td>Male</td>\n",
       "      <td>Loyal Customer</td>\n",
       "      <td>61</td>\n",
       "      <td>Business travel</td>\n",
       "      <td>Business</td>\n",
       "      <td>214</td>\n",
       "      <td>3</td>\n",
       "      <td>3</td>\n",
       "      <td>...</td>\n",
       "      <td>3</td>\n",
       "      <td>3</td>\n",
       "      <td>4</td>\n",
       "      <td>4</td>\n",
       "      <td>3</td>\n",
       "      <td>3</td>\n",
       "      <td>3</td>\n",
       "      <td>0</td>\n",
       "      <td>0.0</td>\n",
       "      <td>satisfied</td>\n",
       "    </tr>\n",
       "  </tbody>\n",
       "</table>\n",
       "<p>5 rows × 25 columns</p>\n",
       "</div>"
      ],
      "text/plain": [
       "   Unnamed: 0      id  Gender      Customer Type  Age   Type of Travel  \\\n",
       "0           0   70172    Male     Loyal Customer   13  Personal Travel   \n",
       "1           1    5047    Male  disloyal Customer   25  Business travel   \n",
       "2           2  110028  Female     Loyal Customer   26  Business travel   \n",
       "3           3   24026  Female     Loyal Customer   25  Business travel   \n",
       "4           4  119299    Male     Loyal Customer   61  Business travel   \n",
       "\n",
       "      Class  Flight Distance  Inflight wifi service  \\\n",
       "0  Eco Plus              460                      3   \n",
       "1  Business              235                      3   \n",
       "2  Business             1142                      2   \n",
       "3  Business              562                      2   \n",
       "4  Business              214                      3   \n",
       "\n",
       "   Departure/Arrival time convenient  ...  Inflight entertainment  \\\n",
       "0                                  4  ...                       5   \n",
       "1                                  2  ...                       1   \n",
       "2                                  2  ...                       5   \n",
       "3                                  5  ...                       2   \n",
       "4                                  3  ...                       3   \n",
       "\n",
       "   On-board service  Leg room service  Baggage handling  Checkin service  \\\n",
       "0                 4                 3                 4                4   \n",
       "1                 1                 5                 3                1   \n",
       "2                 4                 3                 4                4   \n",
       "3                 2                 5                 3                1   \n",
       "4                 3                 4                 4                3   \n",
       "\n",
       "   Inflight service  Cleanliness  Departure Delay in Minutes  \\\n",
       "0                 5            5                          25   \n",
       "1                 4            1                           1   \n",
       "2                 4            5                           0   \n",
       "3                 4            2                          11   \n",
       "4                 3            3                           0   \n",
       "\n",
       "   Arrival Delay in Minutes             satisfaction  \n",
       "0                      18.0  neutral or dissatisfied  \n",
       "1                       6.0  neutral or dissatisfied  \n",
       "2                       0.0                satisfied  \n",
       "3                       9.0  neutral or dissatisfied  \n",
       "4                       0.0                satisfied  \n",
       "\n",
       "[5 rows x 25 columns]"
      ]
     },
     "execution_count": 2,
     "metadata": {},
     "output_type": "execute_result"
    }
   ],
   "source": [
    "# import data\n",
    "train = pd.read_csv(\"/kaggle/input/airline-passenger-satisfaction/train.csv\", )\n",
    "\n",
    "# show to 5 rows\n",
    "train.head()"
   ]
  },
  {
   "cell_type": "code",
   "execution_count": 3,
   "id": "a8600a11",
   "metadata": {
    "execution": {
     "iopub.execute_input": "2022-07-29T10:20:27.461046Z",
     "iopub.status.busy": "2022-07-29T10:20:27.460415Z",
     "iopub.status.idle": "2022-07-29T10:20:27.545136Z",
     "shell.execute_reply": "2022-07-29T10:20:27.544309Z"
    },
    "papermill": {
     "duration": 0.100063,
     "end_time": "2022-07-29T10:20:27.547586",
     "exception": false,
     "start_time": "2022-07-29T10:20:27.447523",
     "status": "completed"
    },
    "tags": []
   },
   "outputs": [],
   "source": [
    "# drop unnamed column\n",
    "train.drop(\"Unnamed: 0\", axis = 1, inplace = True)\n",
    "\n",
    "#create dummy variable \n",
    "satisfaction_dummmy = pd.get_dummies(train[\"satisfaction\"], drop_first = True)\n",
    "Gender_dummmy = pd.get_dummies(train[\"Gender\"], drop_first = True)\n",
    "Customer_dummmy = pd.get_dummies(train[\"Customer Type\"], drop_first = True)\n",
    "Type_dummmy = pd.get_dummies(train[\"Type of Travel\"], drop_first = True)\n",
    "\n",
    "\n",
    "train = pd.concat([train, satisfaction_dummmy, Gender_dummmy, Customer_dummmy, Type_dummmy], axis=1)"
   ]
  },
  {
   "cell_type": "code",
   "execution_count": 4,
   "id": "f7912b72",
   "metadata": {
    "execution": {
     "iopub.execute_input": "2022-07-29T10:20:27.572511Z",
     "iopub.status.busy": "2022-07-29T10:20:27.572092Z",
     "iopub.status.idle": "2022-07-29T10:20:27.576536Z",
     "shell.execute_reply": "2022-07-29T10:20:27.575414Z"
    },
    "papermill": {
     "duration": 0.019659,
     "end_time": "2022-07-29T10:20:27.578907",
     "exception": false,
     "start_time": "2022-07-29T10:20:27.559248",
     "status": "completed"
    },
    "tags": []
   },
   "outputs": [],
   "source": [
    "# library for encoding variables\n",
    "from sklearn.preprocessing import LabelEncoder "
   ]
  },
  {
   "cell_type": "code",
   "execution_count": 5,
   "id": "7acf61f5",
   "metadata": {
    "execution": {
     "iopub.execute_input": "2022-07-29T10:20:27.603796Z",
     "iopub.status.busy": "2022-07-29T10:20:27.602781Z",
     "iopub.status.idle": "2022-07-29T10:20:27.641937Z",
     "shell.execute_reply": "2022-07-29T10:20:27.640754Z"
    },
    "papermill": {
     "duration": 0.054539,
     "end_time": "2022-07-29T10:20:27.644726",
     "exception": false,
     "start_time": "2022-07-29T10:20:27.590187",
     "status": "completed"
    },
    "tags": []
   },
   "outputs": [],
   "source": [
    "# encode class variable\n",
    "le = LabelEncoder()\n",
    "train['Class_code'] = le.fit_transform(train['Class'])"
   ]
  },
  {
   "cell_type": "markdown",
   "id": "7394592f",
   "metadata": {
    "papermill": {
     "duration": 0.011226,
     "end_time": "2022-07-29T10:20:27.667304",
     "exception": false,
     "start_time": "2022-07-29T10:20:27.656078",
     "status": "completed"
    },
    "tags": []
   },
   "source": [
    "As the first part of the project highlighted, the relationship between valuation of the services and its impact on the overall satisfaction was clear when examined in its entirety. As such, in this section of the project, each model will be run twice. Once where the services are evaluated individually and one where the total percent of the services is evaluated. "
   ]
  },
  {
   "cell_type": "code",
   "execution_count": 6,
   "id": "a1e297da",
   "metadata": {
    "execution": {
     "iopub.execute_input": "2022-07-29T10:20:27.697817Z",
     "iopub.status.busy": "2022-07-29T10:20:27.697218Z",
     "iopub.status.idle": "2022-07-29T10:20:27.736458Z",
     "shell.execute_reply": "2022-07-29T10:20:27.735403Z"
    },
    "papermill": {
     "duration": 0.055901,
     "end_time": "2022-07-29T10:20:27.738925",
     "exception": false,
     "start_time": "2022-07-29T10:20:27.683024",
     "status": "completed"
    },
    "tags": []
   },
   "outputs": [],
   "source": [
    "# single out variables which are related to service scores\n",
    "service_scores = train[['Inflight wifi service','Departure/Arrival time convenient', \n",
    "                              'Ease of Online booking','Gate location', 'Food and drink', \n",
    "                              'Online boarding', 'Seat comfort','Inflight entertainment', 'On-board service', 'Leg room service',\n",
    "                              'Baggage handling', 'Checkin service', 'Inflight service','Cleanliness']]"
   ]
  },
  {
   "cell_type": "code",
   "execution_count": 7,
   "id": "02bb5ccf",
   "metadata": {
    "execution": {
     "iopub.execute_input": "2022-07-29T10:20:27.763487Z",
     "iopub.status.busy": "2022-07-29T10:20:27.763072Z",
     "iopub.status.idle": "2022-07-29T10:20:27.773492Z",
     "shell.execute_reply": "2022-07-29T10:20:27.772407Z"
    },
    "papermill": {
     "duration": 0.025498,
     "end_time": "2022-07-29T10:20:27.775714",
     "exception": false,
     "start_time": "2022-07-29T10:20:27.750216",
     "status": "completed"
    },
    "tags": []
   },
   "outputs": [],
   "source": [
    "# calculate sum of scores\n",
    "train[\"Total_score\"] = service_scores.sum(axis = 1)\n",
    "\n",
    "# find max possible score \n",
    "max_score = len(service_scores.columns)*5\n",
    "\n",
    "# convert sum of scores to percentage\n",
    "train[\"Total_score_percent\"] = round((train[\"Total_score\"]/max_score)*100,1)"
   ]
  },
  {
   "cell_type": "code",
   "execution_count": 8,
   "id": "669a3ef6",
   "metadata": {
    "execution": {
     "iopub.execute_input": "2022-07-29T10:20:27.800218Z",
     "iopub.status.busy": "2022-07-29T10:20:27.799810Z",
     "iopub.status.idle": "2022-07-29T10:20:27.806604Z",
     "shell.execute_reply": "2022-07-29T10:20:27.805654Z"
    },
    "papermill": {
     "duration": 0.021809,
     "end_time": "2022-07-29T10:20:27.808983",
     "exception": false,
     "start_time": "2022-07-29T10:20:27.787174",
     "status": "completed"
    },
    "tags": []
   },
   "outputs": [],
   "source": [
    "#round departure delay to hours\n",
    "train[\"Departure Delay in hour\"]= round(train[\"Departure Delay in Minutes\"]/60,1)"
   ]
  },
  {
   "cell_type": "code",
   "execution_count": 9,
   "id": "b7bc4b80",
   "metadata": {
    "execution": {
     "iopub.execute_input": "2022-07-29T10:20:27.833927Z",
     "iopub.status.busy": "2022-07-29T10:20:27.833165Z",
     "iopub.status.idle": "2022-07-29T10:20:27.839305Z",
     "shell.execute_reply": "2022-07-29T10:20:27.838579Z"
    },
    "papermill": {
     "duration": 0.021203,
     "end_time": "2022-07-29T10:20:27.841582",
     "exception": false,
     "start_time": "2022-07-29T10:20:27.820379",
     "status": "completed"
    },
    "tags": []
   },
   "outputs": [],
   "source": [
    "# update null values to 0 \n",
    "train['Arrival Delay in Minutes'] = train['Arrival Delay in Minutes'].fillna(0)"
   ]
  },
  {
   "cell_type": "code",
   "execution_count": 10,
   "id": "4b061a8d",
   "metadata": {
    "execution": {
     "iopub.execute_input": "2022-07-29T10:20:27.865892Z",
     "iopub.status.busy": "2022-07-29T10:20:27.865528Z",
     "iopub.status.idle": "2022-07-29T10:20:27.872074Z",
     "shell.execute_reply": "2022-07-29T10:20:27.871309Z"
    },
    "papermill": {
     "duration": 0.021454,
     "end_time": "2022-07-29T10:20:27.874204",
     "exception": false,
     "start_time": "2022-07-29T10:20:27.852750",
     "status": "completed"
    },
    "tags": []
   },
   "outputs": [],
   "source": [
    "#round arrival delay to hours\n",
    "train[\"Arrival Delay in hour\"]= round(train[\"Arrival Delay in Minutes\"]/60,1)"
   ]
  },
  {
   "cell_type": "code",
   "execution_count": 11,
   "id": "97136889",
   "metadata": {
    "execution": {
     "iopub.execute_input": "2022-07-29T10:20:27.899115Z",
     "iopub.status.busy": "2022-07-29T10:20:27.898389Z",
     "iopub.status.idle": "2022-07-29T10:20:27.937212Z",
     "shell.execute_reply": "2022-07-29T10:20:27.935874Z"
    },
    "papermill": {
     "duration": 0.054399,
     "end_time": "2022-07-29T10:20:27.940163",
     "exception": false,
     "start_time": "2022-07-29T10:20:27.885764",
     "status": "completed"
    },
    "tags": []
   },
   "outputs": [],
   "source": [
    "# rearrange values\n",
    "train = train[['id', 'Gender','Male', 'Customer Type','disloyal Customer', 'Age', 'Type of Travel','Personal Travel', 'Class',\n",
    "       'Class_code','Flight Distance', 'Inflight wifi service',\n",
    "       'Departure/Arrival time convenient', 'Ease of Online booking',\n",
    "       'Gate location', 'Food and drink', 'Online boarding', 'Seat comfort',\n",
    "       'Inflight entertainment', 'On-board service', 'Leg room service',\n",
    "       'Baggage handling', 'Checkin service', 'Inflight service',\n",
    "       'Cleanliness', 'Total_score',\n",
    "       'Total_score_percent', 'Departure Delay in Minutes','Departure Delay in hour', 'Arrival Delay in Minutes',\n",
    "               'Arrival Delay in hour', 'satisfaction', 'satisfied', ]]"
   ]
  },
  {
   "cell_type": "code",
   "execution_count": 12,
   "id": "9aecb90c",
   "metadata": {
    "execution": {
     "iopub.execute_input": "2022-07-29T10:20:27.964327Z",
     "iopub.status.busy": "2022-07-29T10:20:27.963943Z",
     "iopub.status.idle": "2022-07-29T10:20:28.045327Z",
     "shell.execute_reply": "2022-07-29T10:20:28.043325Z"
    },
    "papermill": {
     "duration": 0.097187,
     "end_time": "2022-07-29T10:20:28.048662",
     "exception": false,
     "start_time": "2022-07-29T10:20:27.951475",
     "status": "completed"
    },
    "tags": []
   },
   "outputs": [
    {
     "name": "stdout",
     "output_type": "stream",
     "text": [
      "<class 'pandas.core.frame.DataFrame'>\n",
      "RangeIndex: 103904 entries, 0 to 103903\n",
      "Data columns (total 33 columns):\n",
      " #   Column                             Non-Null Count   Dtype  \n",
      "---  ------                             --------------   -----  \n",
      " 0   id                                 103904 non-null  int64  \n",
      " 1   Gender                             103904 non-null  object \n",
      " 2   Male                               103904 non-null  uint8  \n",
      " 3   Customer Type                      103904 non-null  object \n",
      " 4   disloyal Customer                  103904 non-null  uint8  \n",
      " 5   Age                                103904 non-null  int64  \n",
      " 6   Type of Travel                     103904 non-null  object \n",
      " 7   Personal Travel                    103904 non-null  uint8  \n",
      " 8   Class                              103904 non-null  object \n",
      " 9   Class_code                         103904 non-null  int64  \n",
      " 10  Flight Distance                    103904 non-null  int64  \n",
      " 11  Inflight wifi service              103904 non-null  int64  \n",
      " 12  Departure/Arrival time convenient  103904 non-null  int64  \n",
      " 13  Ease of Online booking             103904 non-null  int64  \n",
      " 14  Gate location                      103904 non-null  int64  \n",
      " 15  Food and drink                     103904 non-null  int64  \n",
      " 16  Online boarding                    103904 non-null  int64  \n",
      " 17  Seat comfort                       103904 non-null  int64  \n",
      " 18  Inflight entertainment             103904 non-null  int64  \n",
      " 19  On-board service                   103904 non-null  int64  \n",
      " 20  Leg room service                   103904 non-null  int64  \n",
      " 21  Baggage handling                   103904 non-null  int64  \n",
      " 22  Checkin service                    103904 non-null  int64  \n",
      " 23  Inflight service                   103904 non-null  int64  \n",
      " 24  Cleanliness                        103904 non-null  int64  \n",
      " 25  Total_score                        103904 non-null  int64  \n",
      " 26  Total_score_percent                103904 non-null  float64\n",
      " 27  Departure Delay in Minutes         103904 non-null  int64  \n",
      " 28  Departure Delay in hour            103904 non-null  float64\n",
      " 29  Arrival Delay in Minutes           103904 non-null  float64\n",
      " 30  Arrival Delay in hour              103904 non-null  float64\n",
      " 31  satisfaction                       103904 non-null  object \n",
      " 32  satisfied                          103904 non-null  uint8  \n",
      "dtypes: float64(4), int64(20), object(5), uint8(4)\n",
      "memory usage: 23.4+ MB\n"
     ]
    }
   ],
   "source": [
    "# reconfirm variables \n",
    "train.info()"
   ]
  },
  {
   "cell_type": "code",
   "execution_count": 13,
   "id": "0c669f0f",
   "metadata": {
    "execution": {
     "iopub.execute_input": "2022-07-29T10:20:28.073895Z",
     "iopub.status.busy": "2022-07-29T10:20:28.072845Z",
     "iopub.status.idle": "2022-07-29T10:20:28.086789Z",
     "shell.execute_reply": "2022-07-29T10:20:28.085695Z"
    },
    "papermill": {
     "duration": 0.029332,
     "end_time": "2022-07-29T10:20:28.089488",
     "exception": false,
     "start_time": "2022-07-29T10:20:28.060156",
     "status": "completed"
    },
    "tags": []
   },
   "outputs": [],
   "source": [
    "# full list of variables\n",
    "X1 = train[['Male', 'disloyal Customer', 'Age', 'Personal Travel', 'Class_code','Flight Distance', \n",
    "       'Inflight wifi service',\n",
    "       'Departure/Arrival time convenient', 'Ease of Online booking',\n",
    "       'Gate location', 'Food and drink', 'Online boarding', 'Seat comfort',\n",
    "       'Inflight entertainment', 'On-board service', 'Leg room service',\n",
    "       'Baggage handling', 'Checkin service', 'Inflight service',\n",
    "       'Cleanliness', 'Departure Delay in hour','Arrival Delay in hour',]]\n",
    "Y1 = train['satisfied']"
   ]
  },
  {
   "cell_type": "code",
   "execution_count": 14,
   "id": "d551f3da",
   "metadata": {
    "execution": {
     "iopub.execute_input": "2022-07-29T10:20:28.114699Z",
     "iopub.status.busy": "2022-07-29T10:20:28.113745Z",
     "iopub.status.idle": "2022-07-29T10:20:28.122113Z",
     "shell.execute_reply": "2022-07-29T10:20:28.121117Z"
    },
    "papermill": {
     "duration": 0.023625,
     "end_time": "2022-07-29T10:20:28.124572",
     "exception": false,
     "start_time": "2022-07-29T10:20:28.100947",
     "status": "completed"
    },
    "tags": []
   },
   "outputs": [],
   "source": [
    "# condensed list of variable\n",
    "X2 = train[['Male', 'disloyal Customer', 'Age', 'Personal Travel', 'Class_code','Flight Distance', \n",
    "       'Total_score_percent', 'Departure Delay in hour','Arrival Delay in hour',]]\n",
    "Y2 = train['satisfied']"
   ]
  },
  {
   "cell_type": "markdown",
   "id": "85195155",
   "metadata": {
    "papermill": {
     "duration": 0.01108,
     "end_time": "2022-07-29T10:20:28.147029",
     "exception": false,
     "start_time": "2022-07-29T10:20:28.135949",
     "status": "completed"
    },
    "tags": []
   },
   "source": [
    "# Modelling \n",
    "There are several classifications which can be used to model the data. Various models will yield different accuracy results. For this project, the four models will be mainly utilised. They are:\n",
    "* random forest, \n",
    "* logistic regression, \n",
    "* KNN \n",
    "* decision trees. \n",
    "\n",
    "To ensure that the balance in the training dataset does not skew the results, each model will be passed through cross validation.  \n"
   ]
  },
  {
   "cell_type": "markdown",
   "id": "d61ba500",
   "metadata": {
    "papermill": {
     "duration": 0.011003,
     "end_time": "2022-07-29T10:20:28.169186",
     "exception": false,
     "start_time": "2022-07-29T10:20:28.158183",
     "status": "completed"
    },
    "tags": []
   },
   "source": [
    "## Logistic Regression"
   ]
  },
  {
   "cell_type": "code",
   "execution_count": 15,
   "id": "1053a7d5",
   "metadata": {
    "execution": {
     "iopub.execute_input": "2022-07-29T10:20:28.194092Z",
     "iopub.status.busy": "2022-07-29T10:20:28.192985Z",
     "iopub.status.idle": "2022-07-29T10:20:47.510173Z",
     "shell.execute_reply": "2022-07-29T10:20:47.508773Z"
    },
    "papermill": {
     "duration": 19.335064,
     "end_time": "2022-07-29T10:20:47.515594",
     "exception": false,
     "start_time": "2022-07-29T10:20:28.180530",
     "status": "completed"
    },
    "tags": []
   },
   "outputs": [
    {
     "name": "stdout",
     "output_type": "stream",
     "text": [
      "Cross-Validation Accuracy Scores - [0.87498797 0.87691271 0.87036859 0.87508421 0.8746872  0.87266603\n",
      " 0.87507218 0.87449471 0.88036574 0.880077  ]\n",
      "Cross-Validation Accuracy Scores AVG - 0.8754716327865353\n"
     ]
    }
   ],
   "source": [
    "Log_total_score1 = cross_val_score(LogisticRegression(solver='liblinear',multi_class='ovr'), X1, Y1, cv=10)\n",
    "print('Cross-Validation Accuracy Scores -', Log_total_score1)\n",
    "print('Cross-Validation Accuracy Scores AVG -', Log_total_score1.mean())"
   ]
  },
  {
   "cell_type": "code",
   "execution_count": 16,
   "id": "1d50888c",
   "metadata": {
    "execution": {
     "iopub.execute_input": "2022-07-29T10:20:47.560656Z",
     "iopub.status.busy": "2022-07-29T10:20:47.560053Z",
     "iopub.status.idle": "2022-07-29T10:20:54.532334Z",
     "shell.execute_reply": "2022-07-29T10:20:54.531140Z"
    },
    "papermill": {
     "duration": 6.998462,
     "end_time": "2022-07-29T10:20:54.535732",
     "exception": false,
     "start_time": "2022-07-29T10:20:47.537270",
     "status": "completed"
    },
    "tags": []
   },
   "outputs": [
    {
     "name": "stdout",
     "output_type": "stream",
     "text": [
      "Cross-Validation Accuracy Scores - [0.84284477 0.84553941 0.8437109  0.84351843 0.83849856 0.83974976\n",
      " 0.84205967 0.84282964 0.85033686 0.85553417]\n",
      "Cross-Validation Accuracy Scores AVG - 0.844462217386798\n"
     ]
    }
   ],
   "source": [
    "Log_total_score2 = cross_val_score(LogisticRegression(solver='liblinear',multi_class='ovr'), X2, Y2, cv=10)\n",
    "print('Cross-Validation Accuracy Scores -', Log_total_score2)\n",
    "print('Cross-Validation Accuracy Scores AVG -', Log_total_score2.mean())"
   ]
  },
  {
   "cell_type": "markdown",
   "id": "cfd003cc",
   "metadata": {
    "papermill": {
     "duration": 0.020764,
     "end_time": "2022-07-29T10:20:54.578314",
     "exception": false,
     "start_time": "2022-07-29T10:20:54.557550",
     "status": "completed"
    },
    "tags": []
   },
   "source": [
    "## Random Forest"
   ]
  },
  {
   "cell_type": "code",
   "execution_count": 17,
   "id": "e68455a0",
   "metadata": {
    "execution": {
     "iopub.execute_input": "2022-07-29T10:20:54.622820Z",
     "iopub.status.busy": "2022-07-29T10:20:54.622241Z",
     "iopub.status.idle": "2022-07-29T10:21:35.985856Z",
     "shell.execute_reply": "2022-07-29T10:21:35.984756Z"
    },
    "papermill": {
     "duration": 41.400736,
     "end_time": "2022-07-29T10:21:36.000327",
     "exception": false,
     "start_time": "2022-07-29T10:20:54.599591",
     "status": "completed"
    },
    "tags": []
   },
   "outputs": [
    {
     "name": "stdout",
     "output_type": "stream",
     "text": [
      "Cross-Validation Accuracy Scores - [0.95938793 0.96025407 0.96044654 0.96458474 0.96188643 0.96053898\n",
      " 0.96284889 0.96217517 0.96217517 0.96573628]\n",
      "Cross-Validation Accuracy Scores AVG - 0.9620034198914829\n"
     ]
    }
   ],
   "source": [
    "RFC1 = cross_val_score(RandomForestClassifier(n_estimators=40), X1, Y1,cv=10)\n",
    "print('Cross-Validation Accuracy Scores -', RFC1)\n",
    "print('Cross-Validation Accuracy Scores AVG -', RFC1.mean())"
   ]
  },
  {
   "cell_type": "code",
   "execution_count": 18,
   "id": "a0178c09",
   "metadata": {
    "execution": {
     "iopub.execute_input": "2022-07-29T10:21:36.027093Z",
     "iopub.status.busy": "2022-07-29T10:21:36.026427Z",
     "iopub.status.idle": "2022-07-29T10:22:21.384573Z",
     "shell.execute_reply": "2022-07-29T10:22:21.383420Z"
    },
    "papermill": {
     "duration": 45.385175,
     "end_time": "2022-07-29T10:22:21.398553",
     "exception": false,
     "start_time": "2022-07-29T10:21:36.013378",
     "status": "completed"
    },
    "tags": []
   },
   "outputs": [
    {
     "name": "stdout",
     "output_type": "stream",
     "text": [
      "Cross-Validation Accuracy Scores - [0.84900395 0.84303724 0.85006255 0.84967761 0.84436959 0.84205967\n",
      " 0.84716073 0.85149182 0.85351299 0.85717036]\n",
      "Cross-Validation Accuracy Scores AVG - 0.8487546508051083\n"
     ]
    }
   ],
   "source": [
    "RFC2 = cross_val_score(RandomForestClassifier(n_estimators=40), X2, Y2,cv=10)\n",
    "print('Cross-Validation Accuracy Scores -', RFC2)\n",
    "print('Cross-Validation Accuracy Scores AVG -', RFC2.mean())"
   ]
  },
  {
   "cell_type": "markdown",
   "id": "3012c74a",
   "metadata": {
    "papermill": {
     "duration": 0.011546,
     "end_time": "2022-07-29T10:22:21.421660",
     "exception": false,
     "start_time": "2022-07-29T10:22:21.410114",
     "status": "completed"
    },
    "tags": []
   },
   "source": [
    "## KNN"
   ]
  },
  {
   "cell_type": "code",
   "execution_count": 19,
   "id": "d09768da",
   "metadata": {
    "execution": {
     "iopub.execute_input": "2022-07-29T10:22:21.446711Z",
     "iopub.status.busy": "2022-07-29T10:22:21.446312Z",
     "iopub.status.idle": "2022-07-29T10:22:21.502800Z",
     "shell.execute_reply": "2022-07-29T10:22:21.501737Z"
    },
    "papermill": {
     "duration": 0.071833,
     "end_time": "2022-07-29T10:22:21.505123",
     "exception": false,
     "start_time": "2022-07-29T10:22:21.433290",
     "status": "completed"
    },
    "tags": []
   },
   "outputs": [],
   "source": [
    "# scale variables\n",
    "from sklearn.preprocessing import StandardScaler\n",
    "\n",
    "scaler = StandardScaler()\n",
    "scaler.fit(X1)\n",
    "\n",
    "X1_scaled = scaler.transform(X1)\n",
    "\n",
    "scaler = StandardScaler()\n",
    "scaler.fit(X2)\n",
    "\n",
    "X2_scaled = scaler.transform(X2)"
   ]
  },
  {
   "cell_type": "code",
   "execution_count": 20,
   "id": "325d7e0c",
   "metadata": {
    "execution": {
     "iopub.execute_input": "2022-07-29T10:22:21.530790Z",
     "iopub.status.busy": "2022-07-29T10:22:21.529888Z",
     "iopub.status.idle": "2022-07-29T10:24:23.574234Z",
     "shell.execute_reply": "2022-07-29T10:24:23.573110Z"
    },
    "papermill": {
     "duration": 122.071881,
     "end_time": "2022-07-29T10:24:23.588770",
     "exception": false,
     "start_time": "2022-07-29T10:22:21.516889",
     "status": "completed"
    },
    "tags": []
   },
   "outputs": [
    {
     "name": "stdout",
     "output_type": "stream",
     "text": [
      "Cross-Validation Accuracy Scores - [0.91463767 0.90895968 0.91184679 0.91511885 0.91116458 0.91453321\n",
      " 0.91231954 0.90856593 0.91530318 0.91953802]\n",
      "Cross-Validation Accuracy Scores AVG - 0.9131987433783715\n"
     ]
    }
   ],
   "source": [
    "KNN1 = cross_val_score(KNeighborsClassifier(n_neighbors = 2), X1_scaled, Y1,cv=10)\n",
    "print('Cross-Validation Accuracy Scores -', KNN1)\n",
    "print('Cross-Validation Accuracy Scores AVG -', KNN1.mean())"
   ]
  },
  {
   "cell_type": "code",
   "execution_count": 21,
   "id": "a25636f7",
   "metadata": {
    "execution": {
     "iopub.execute_input": "2022-07-29T10:24:23.614079Z",
     "iopub.status.busy": "2022-07-29T10:24:23.613698Z",
     "iopub.status.idle": "2022-07-29T10:24:34.131465Z",
     "shell.execute_reply": "2022-07-29T10:24:34.130121Z"
    },
    "papermill": {
     "duration": 10.534207,
     "end_time": "2022-07-29T10:24:34.134887",
     "exception": false,
     "start_time": "2022-07-29T10:24:23.600680",
     "status": "completed"
    },
    "tags": []
   },
   "outputs": [
    {
     "name": "stdout",
     "output_type": "stream",
     "text": [
      "Cross-Validation Accuracy Scores - [0.81031662 0.80954672 0.80791069 0.81599461 0.81000962 0.81000962\n",
      " 0.81385948 0.81847931 0.81607315 0.81953802]\n",
      "Cross-Validation Accuracy Scores AVG - 0.8131737847098561\n"
     ]
    }
   ],
   "source": [
    "KNN2 = cross_val_score(KNeighborsClassifier(n_neighbors = 2), X2_scaled, Y2,cv=10)\n",
    "print('Cross-Validation Accuracy Scores -', KNN2)\n",
    "print('Cross-Validation Accuracy Scores AVG -', KNN2.mean())"
   ]
  },
  {
   "cell_type": "markdown",
   "id": "d41e7efc",
   "metadata": {
    "papermill": {
     "duration": 0.011751,
     "end_time": "2022-07-29T10:24:34.158811",
     "exception": false,
     "start_time": "2022-07-29T10:24:34.147060",
     "status": "completed"
    },
    "tags": []
   },
   "source": [
    "## Decision Tree Classifier"
   ]
  },
  {
   "cell_type": "code",
   "execution_count": 22,
   "id": "6f1026dd",
   "metadata": {
    "execution": {
     "iopub.execute_input": "2022-07-29T10:24:34.184458Z",
     "iopub.status.busy": "2022-07-29T10:24:34.183763Z",
     "iopub.status.idle": "2022-07-29T10:24:40.020446Z",
     "shell.execute_reply": "2022-07-29T10:24:40.019313Z"
    },
    "papermill": {
     "duration": 5.853087,
     "end_time": "2022-07-29T10:24:40.023916",
     "exception": false,
     "start_time": "2022-07-29T10:24:34.170829",
     "status": "completed"
    },
    "tags": []
   },
   "outputs": [
    {
     "name": "stdout",
     "output_type": "stream",
     "text": [
      "Cross-Validation Accuracy Scores - [0.94293138 0.94543355 0.94668463 0.95072659 0.94889317 0.94552454\n",
      " 0.94600577 0.94754572 0.9466795  0.94716073]\n",
      "Cross-Validation Accuracy Scores AVG - 0.9467585584585907\n"
     ]
    }
   ],
   "source": [
    "decision_tree_result1 = cross_val_score(DecisionTreeClassifier(), X1, Y1,cv=10)\n",
    "print('Cross-Validation Accuracy Scores -', decision_tree_result1)\n",
    "print('Cross-Validation Accuracy Scores AVG -', decision_tree_result1.mean())"
   ]
  },
  {
   "cell_type": "code",
   "execution_count": 23,
   "id": "d929718a",
   "metadata": {
    "execution": {
     "iopub.execute_input": "2022-07-29T10:24:40.049856Z",
     "iopub.status.busy": "2022-07-29T10:24:40.049362Z",
     "iopub.status.idle": "2022-07-29T10:24:44.160142Z",
     "shell.execute_reply": "2022-07-29T10:24:44.159385Z"
    },
    "papermill": {
     "duration": 4.126363,
     "end_time": "2022-07-29T10:24:44.162463",
     "exception": false,
     "start_time": "2022-07-29T10:24:40.036100",
     "status": "completed"
    },
    "tags": []
   },
   "outputs": [
    {
     "name": "stdout",
     "output_type": "stream",
     "text": [
      "Cross-Validation Accuracy Scores - [0.78635358 0.78798961 0.79443749 0.79078048 0.78488932 0.78719923\n",
      " 0.78681424 0.78835419 0.79884504 0.79181906]\n",
      "Cross-Validation Accuracy Scores AVG - 0.78974822366546\n"
     ]
    }
   ],
   "source": [
    "decision_tree_result2 = cross_val_score(DecisionTreeClassifier(), X2, Y2,cv=10)\n",
    "print('Cross-Validation Accuracy Scores -', decision_tree_result2)\n",
    "print('Cross-Validation Accuracy Scores AVG -', decision_tree_result2.mean())"
   ]
  },
  {
   "cell_type": "code",
   "execution_count": 24,
   "id": "9caf4f4f",
   "metadata": {
    "execution": {
     "iopub.execute_input": "2022-07-29T10:24:44.188624Z",
     "iopub.status.busy": "2022-07-29T10:24:44.188225Z",
     "iopub.status.idle": "2022-07-29T10:24:44.194645Z",
     "shell.execute_reply": "2022-07-29T10:24:44.193630Z"
    },
    "papermill": {
     "duration": 0.021977,
     "end_time": "2022-07-29T10:24:44.196814",
     "exception": false,
     "start_time": "2022-07-29T10:24:44.174837",
     "status": "completed"
    },
    "tags": []
   },
   "outputs": [],
   "source": [
    "models = {'Log_full':Log_total_score1,'Log_limited':Log_total_score1, \"RFC_full\": RFC1, \n",
    "       \"RFC_limited\": RFC2,\"KNN_scaled_full\": KNN1, \"KNN_scaled_limited\": KNN2, \n",
    "          \"decision_tree_full\": decision_tree_result1, \n",
    "          \"decision_tree_limited\":decision_tree_result2,}\n",
    "df = pd.DataFrame(models)"
   ]
  },
  {
   "cell_type": "markdown",
   "id": "5609cc3c",
   "metadata": {
    "papermill": {
     "duration": 0.011945,
     "end_time": "2022-07-29T10:24:44.221164",
     "exception": false,
     "start_time": "2022-07-29T10:24:44.209219",
     "status": "completed"
    },
    "tags": []
   },
   "source": [
    "Doing so for both the full range of variables reveals the following: "
   ]
  },
  {
   "cell_type": "code",
   "execution_count": 25,
   "id": "e8268831",
   "metadata": {
    "execution": {
     "iopub.execute_input": "2022-07-29T10:24:44.248036Z",
     "iopub.status.busy": "2022-07-29T10:24:44.246963Z",
     "iopub.status.idle": "2022-07-29T10:24:44.327098Z",
     "shell.execute_reply": "2022-07-29T10:24:44.326064Z"
    },
    "papermill": {
     "duration": 0.09602,
     "end_time": "2022-07-29T10:24:44.329459",
     "exception": false,
     "start_time": "2022-07-29T10:24:44.233439",
     "status": "completed"
    },
    "tags": []
   },
   "outputs": [
    {
     "data": {
      "text/html": [
       "<style type=\"text/css\">\n",
       "#T_49fd2_row0_col10, #T_49fd2_row1_col10 {\n",
       "  background-color: #f769a1;\n",
       "  color: #f1f1f1;\n",
       "}\n",
       "#T_49fd2_row2_col10 {\n",
       "  background-color: #49006a;\n",
       "  color: #f1f1f1;\n",
       "}\n",
       "#T_49fd2_row3_col10 {\n",
       "  background-color: #fba9b8;\n",
       "  color: #000000;\n",
       "}\n",
       "#T_49fd2_row4_col10 {\n",
       "  background-color: #ba0e84;\n",
       "  color: #f1f1f1;\n",
       "}\n",
       "#T_49fd2_row5_col10 {\n",
       "  background-color: #fddedb;\n",
       "  color: #000000;\n",
       "}\n",
       "#T_49fd2_row6_col10 {\n",
       "  background-color: #6b0173;\n",
       "  color: #f1f1f1;\n",
       "}\n",
       "#T_49fd2_row7_col10 {\n",
       "  background-color: #fff7f3;\n",
       "  color: #000000;\n",
       "}\n",
       "</style>\n",
       "<table id=\"T_49fd2_\">\n",
       "  <thead>\n",
       "    <tr>\n",
       "      <th class=\"blank level0\" >&nbsp;</th>\n",
       "      <th class=\"col_heading level0 col0\" >0</th>\n",
       "      <th class=\"col_heading level0 col1\" >1</th>\n",
       "      <th class=\"col_heading level0 col2\" >2</th>\n",
       "      <th class=\"col_heading level0 col3\" >3</th>\n",
       "      <th class=\"col_heading level0 col4\" >4</th>\n",
       "      <th class=\"col_heading level0 col5\" >5</th>\n",
       "      <th class=\"col_heading level0 col6\" >6</th>\n",
       "      <th class=\"col_heading level0 col7\" >7</th>\n",
       "      <th class=\"col_heading level0 col8\" >8</th>\n",
       "      <th class=\"col_heading level0 col9\" >9</th>\n",
       "      <th class=\"col_heading level0 col10\" >avg</th>\n",
       "    </tr>\n",
       "  </thead>\n",
       "  <tbody>\n",
       "    <tr>\n",
       "      <th id=\"T_49fd2_level0_row0\" class=\"row_heading level0 row0\" >Log_full</th>\n",
       "      <td id=\"T_49fd2_row0_col0\" class=\"data row0 col0\" >0.874988</td>\n",
       "      <td id=\"T_49fd2_row0_col1\" class=\"data row0 col1\" >0.876913</td>\n",
       "      <td id=\"T_49fd2_row0_col2\" class=\"data row0 col2\" >0.870369</td>\n",
       "      <td id=\"T_49fd2_row0_col3\" class=\"data row0 col3\" >0.875084</td>\n",
       "      <td id=\"T_49fd2_row0_col4\" class=\"data row0 col4\" >0.874687</td>\n",
       "      <td id=\"T_49fd2_row0_col5\" class=\"data row0 col5\" >0.872666</td>\n",
       "      <td id=\"T_49fd2_row0_col6\" class=\"data row0 col6\" >0.875072</td>\n",
       "      <td id=\"T_49fd2_row0_col7\" class=\"data row0 col7\" >0.874495</td>\n",
       "      <td id=\"T_49fd2_row0_col8\" class=\"data row0 col8\" >0.880366</td>\n",
       "      <td id=\"T_49fd2_row0_col9\" class=\"data row0 col9\" >0.880077</td>\n",
       "      <td id=\"T_49fd2_row0_col10\" class=\"data row0 col10\" >0.875472</td>\n",
       "    </tr>\n",
       "    <tr>\n",
       "      <th id=\"T_49fd2_level0_row1\" class=\"row_heading level0 row1\" >Log_limited</th>\n",
       "      <td id=\"T_49fd2_row1_col0\" class=\"data row1 col0\" >0.874988</td>\n",
       "      <td id=\"T_49fd2_row1_col1\" class=\"data row1 col1\" >0.876913</td>\n",
       "      <td id=\"T_49fd2_row1_col2\" class=\"data row1 col2\" >0.870369</td>\n",
       "      <td id=\"T_49fd2_row1_col3\" class=\"data row1 col3\" >0.875084</td>\n",
       "      <td id=\"T_49fd2_row1_col4\" class=\"data row1 col4\" >0.874687</td>\n",
       "      <td id=\"T_49fd2_row1_col5\" class=\"data row1 col5\" >0.872666</td>\n",
       "      <td id=\"T_49fd2_row1_col6\" class=\"data row1 col6\" >0.875072</td>\n",
       "      <td id=\"T_49fd2_row1_col7\" class=\"data row1 col7\" >0.874495</td>\n",
       "      <td id=\"T_49fd2_row1_col8\" class=\"data row1 col8\" >0.880366</td>\n",
       "      <td id=\"T_49fd2_row1_col9\" class=\"data row1 col9\" >0.880077</td>\n",
       "      <td id=\"T_49fd2_row1_col10\" class=\"data row1 col10\" >0.875472</td>\n",
       "    </tr>\n",
       "    <tr>\n",
       "      <th id=\"T_49fd2_level0_row2\" class=\"row_heading level0 row2\" >RFC_full</th>\n",
       "      <td id=\"T_49fd2_row2_col0\" class=\"data row2 col0\" >0.959388</td>\n",
       "      <td id=\"T_49fd2_row2_col1\" class=\"data row2 col1\" >0.960254</td>\n",
       "      <td id=\"T_49fd2_row2_col2\" class=\"data row2 col2\" >0.960447</td>\n",
       "      <td id=\"T_49fd2_row2_col3\" class=\"data row2 col3\" >0.964585</td>\n",
       "      <td id=\"T_49fd2_row2_col4\" class=\"data row2 col4\" >0.961886</td>\n",
       "      <td id=\"T_49fd2_row2_col5\" class=\"data row2 col5\" >0.960539</td>\n",
       "      <td id=\"T_49fd2_row2_col6\" class=\"data row2 col6\" >0.962849</td>\n",
       "      <td id=\"T_49fd2_row2_col7\" class=\"data row2 col7\" >0.962175</td>\n",
       "      <td id=\"T_49fd2_row2_col8\" class=\"data row2 col8\" >0.962175</td>\n",
       "      <td id=\"T_49fd2_row2_col9\" class=\"data row2 col9\" >0.965736</td>\n",
       "      <td id=\"T_49fd2_row2_col10\" class=\"data row2 col10\" >0.962003</td>\n",
       "    </tr>\n",
       "    <tr>\n",
       "      <th id=\"T_49fd2_level0_row3\" class=\"row_heading level0 row3\" >RFC_limited</th>\n",
       "      <td id=\"T_49fd2_row3_col0\" class=\"data row3 col0\" >0.849004</td>\n",
       "      <td id=\"T_49fd2_row3_col1\" class=\"data row3 col1\" >0.843037</td>\n",
       "      <td id=\"T_49fd2_row3_col2\" class=\"data row3 col2\" >0.850063</td>\n",
       "      <td id=\"T_49fd2_row3_col3\" class=\"data row3 col3\" >0.849678</td>\n",
       "      <td id=\"T_49fd2_row3_col4\" class=\"data row3 col4\" >0.844370</td>\n",
       "      <td id=\"T_49fd2_row3_col5\" class=\"data row3 col5\" >0.842060</td>\n",
       "      <td id=\"T_49fd2_row3_col6\" class=\"data row3 col6\" >0.847161</td>\n",
       "      <td id=\"T_49fd2_row3_col7\" class=\"data row3 col7\" >0.851492</td>\n",
       "      <td id=\"T_49fd2_row3_col8\" class=\"data row3 col8\" >0.853513</td>\n",
       "      <td id=\"T_49fd2_row3_col9\" class=\"data row3 col9\" >0.857170</td>\n",
       "      <td id=\"T_49fd2_row3_col10\" class=\"data row3 col10\" >0.848755</td>\n",
       "    </tr>\n",
       "    <tr>\n",
       "      <th id=\"T_49fd2_level0_row4\" class=\"row_heading level0 row4\" >KNN_scaled_full</th>\n",
       "      <td id=\"T_49fd2_row4_col0\" class=\"data row4 col0\" >0.914638</td>\n",
       "      <td id=\"T_49fd2_row4_col1\" class=\"data row4 col1\" >0.908960</td>\n",
       "      <td id=\"T_49fd2_row4_col2\" class=\"data row4 col2\" >0.911847</td>\n",
       "      <td id=\"T_49fd2_row4_col3\" class=\"data row4 col3\" >0.915119</td>\n",
       "      <td id=\"T_49fd2_row4_col4\" class=\"data row4 col4\" >0.911165</td>\n",
       "      <td id=\"T_49fd2_row4_col5\" class=\"data row4 col5\" >0.914533</td>\n",
       "      <td id=\"T_49fd2_row4_col6\" class=\"data row4 col6\" >0.912320</td>\n",
       "      <td id=\"T_49fd2_row4_col7\" class=\"data row4 col7\" >0.908566</td>\n",
       "      <td id=\"T_49fd2_row4_col8\" class=\"data row4 col8\" >0.915303</td>\n",
       "      <td id=\"T_49fd2_row4_col9\" class=\"data row4 col9\" >0.919538</td>\n",
       "      <td id=\"T_49fd2_row4_col10\" class=\"data row4 col10\" >0.913199</td>\n",
       "    </tr>\n",
       "    <tr>\n",
       "      <th id=\"T_49fd2_level0_row5\" class=\"row_heading level0 row5\" >KNN_scaled_limited</th>\n",
       "      <td id=\"T_49fd2_row5_col0\" class=\"data row5 col0\" >0.810317</td>\n",
       "      <td id=\"T_49fd2_row5_col1\" class=\"data row5 col1\" >0.809547</td>\n",
       "      <td id=\"T_49fd2_row5_col2\" class=\"data row5 col2\" >0.807911</td>\n",
       "      <td id=\"T_49fd2_row5_col3\" class=\"data row5 col3\" >0.815995</td>\n",
       "      <td id=\"T_49fd2_row5_col4\" class=\"data row5 col4\" >0.810010</td>\n",
       "      <td id=\"T_49fd2_row5_col5\" class=\"data row5 col5\" >0.810010</td>\n",
       "      <td id=\"T_49fd2_row5_col6\" class=\"data row5 col6\" >0.813859</td>\n",
       "      <td id=\"T_49fd2_row5_col7\" class=\"data row5 col7\" >0.818479</td>\n",
       "      <td id=\"T_49fd2_row5_col8\" class=\"data row5 col8\" >0.816073</td>\n",
       "      <td id=\"T_49fd2_row5_col9\" class=\"data row5 col9\" >0.819538</td>\n",
       "      <td id=\"T_49fd2_row5_col10\" class=\"data row5 col10\" >0.813174</td>\n",
       "    </tr>\n",
       "    <tr>\n",
       "      <th id=\"T_49fd2_level0_row6\" class=\"row_heading level0 row6\" >decision_tree_full</th>\n",
       "      <td id=\"T_49fd2_row6_col0\" class=\"data row6 col0\" >0.942931</td>\n",
       "      <td id=\"T_49fd2_row6_col1\" class=\"data row6 col1\" >0.945434</td>\n",
       "      <td id=\"T_49fd2_row6_col2\" class=\"data row6 col2\" >0.946685</td>\n",
       "      <td id=\"T_49fd2_row6_col3\" class=\"data row6 col3\" >0.950727</td>\n",
       "      <td id=\"T_49fd2_row6_col4\" class=\"data row6 col4\" >0.948893</td>\n",
       "      <td id=\"T_49fd2_row6_col5\" class=\"data row6 col5\" >0.945525</td>\n",
       "      <td id=\"T_49fd2_row6_col6\" class=\"data row6 col6\" >0.946006</td>\n",
       "      <td id=\"T_49fd2_row6_col7\" class=\"data row6 col7\" >0.947546</td>\n",
       "      <td id=\"T_49fd2_row6_col8\" class=\"data row6 col8\" >0.946679</td>\n",
       "      <td id=\"T_49fd2_row6_col9\" class=\"data row6 col9\" >0.947161</td>\n",
       "      <td id=\"T_49fd2_row6_col10\" class=\"data row6 col10\" >0.946759</td>\n",
       "    </tr>\n",
       "    <tr>\n",
       "      <th id=\"T_49fd2_level0_row7\" class=\"row_heading level0 row7\" >decision_tree_limited</th>\n",
       "      <td id=\"T_49fd2_row7_col0\" class=\"data row7 col0\" >0.786354</td>\n",
       "      <td id=\"T_49fd2_row7_col1\" class=\"data row7 col1\" >0.787990</td>\n",
       "      <td id=\"T_49fd2_row7_col2\" class=\"data row7 col2\" >0.794437</td>\n",
       "      <td id=\"T_49fd2_row7_col3\" class=\"data row7 col3\" >0.790780</td>\n",
       "      <td id=\"T_49fd2_row7_col4\" class=\"data row7 col4\" >0.784889</td>\n",
       "      <td id=\"T_49fd2_row7_col5\" class=\"data row7 col5\" >0.787199</td>\n",
       "      <td id=\"T_49fd2_row7_col6\" class=\"data row7 col6\" >0.786814</td>\n",
       "      <td id=\"T_49fd2_row7_col7\" class=\"data row7 col7\" >0.788354</td>\n",
       "      <td id=\"T_49fd2_row7_col8\" class=\"data row7 col8\" >0.798845</td>\n",
       "      <td id=\"T_49fd2_row7_col9\" class=\"data row7 col9\" >0.791819</td>\n",
       "      <td id=\"T_49fd2_row7_col10\" class=\"data row7 col10\" >0.789748</td>\n",
       "    </tr>\n",
       "  </tbody>\n",
       "</table>\n"
      ],
      "text/plain": [
       "<pandas.io.formats.style.Styler at 0x7f8a3ff5d110>"
      ]
     },
     "execution_count": 25,
     "metadata": {},
     "output_type": "execute_result"
    }
   ],
   "source": [
    "df1 = df.transpose()\n",
    "df1[\"avg\"]= df1.mean(axis =1)\n",
    "df1.style.background_gradient(cmap =\"RdPu\" ,subset='avg')"
   ]
  },
  {
   "cell_type": "markdown",
   "id": "769a1cc8",
   "metadata": {
    "papermill": {
     "duration": 0.012243,
     "end_time": "2022-07-29T10:24:44.354543",
     "exception": false,
     "start_time": "2022-07-29T10:24:44.342300",
     "status": "completed"
    },
    "tags": []
   },
   "source": [
    "As the table shows, even in the worst performing model, the outcome of the passenger satisfaction could be predicted based on their data and rating of various services with over 75% accuracy and the highest correctly predicting the outcome with over 90% accuracy. \n",
    "\n",
    "Given that satisfaction is subjective, it may be susceptible to randomness and noise. That said, these scores are extremely high, especially under the random forest model. Therefore, stakeholders cannot ignore that passengers’ overall satisfaction can be predicted and are not independent of their experience flying with the airline. \n",
    "\n",
    "This is further emphasised by the results of models which focused on either passenger profiles or passenger experience, “RFC_passenger_data” and “RFC_passenger_experiecnce”. Whilst both had over 75% accuracy in predicting the satisfaction, passenger experience was better at predicting the overall satisfaction. This implies that the majority of the issues with dissatisfaction do not come from factors such as customer demography. In other words, if the airline wishes to improve customer satisfaction, marketing to secure a different demography may help but improving their services are likely to have the biggest impact. "
   ]
  },
  {
   "cell_type": "code",
   "execution_count": 26,
   "id": "78f5c545",
   "metadata": {
    "execution": {
     "iopub.execute_input": "2022-07-29T10:24:44.382452Z",
     "iopub.status.busy": "2022-07-29T10:24:44.382038Z",
     "iopub.status.idle": "2022-07-29T10:24:44.389474Z",
     "shell.execute_reply": "2022-07-29T10:24:44.388730Z"
    },
    "papermill": {
     "duration": 0.0237,
     "end_time": "2022-07-29T10:24:44.391482",
     "exception": false,
     "start_time": "2022-07-29T10:24:44.367782",
     "status": "completed"
    },
    "tags": []
   },
   "outputs": [],
   "source": [
    "X3 = train[['Male', 'disloyal Customer', 'Age', 'Personal Travel', 'Class_code','Flight Distance', \n",
    "       'Departure Delay in hour','Arrival Delay in hour',]]\n",
    "Y3 = train['satisfied']"
   ]
  },
  {
   "cell_type": "code",
   "execution_count": 27,
   "id": "20e99bbd",
   "metadata": {
    "execution": {
     "iopub.execute_input": "2022-07-29T10:24:44.419322Z",
     "iopub.status.busy": "2022-07-29T10:24:44.418502Z",
     "iopub.status.idle": "2022-07-29T10:24:44.427789Z",
     "shell.execute_reply": "2022-07-29T10:24:44.426744Z"
    },
    "papermill": {
     "duration": 0.025619,
     "end_time": "2022-07-29T10:24:44.429980",
     "exception": false,
     "start_time": "2022-07-29T10:24:44.404361",
     "status": "completed"
    },
    "tags": []
   },
   "outputs": [],
   "source": [
    "X4 = train[['Inflight wifi service',\n",
    "       'Departure/Arrival time convenient', 'Ease of Online booking',\n",
    "       'Gate location', 'Food and drink', 'Online boarding', 'Seat comfort',\n",
    "       'Inflight entertainment', 'On-board service', 'Leg room service',\n",
    "       'Baggage handling', 'Checkin service', 'Inflight service',\n",
    "       'Cleanliness', ]]\n",
    "Y4 = train['satisfied']"
   ]
  },
  {
   "cell_type": "code",
   "execution_count": 28,
   "id": "d6e31d46",
   "metadata": {
    "execution": {
     "iopub.execute_input": "2022-07-29T10:24:44.457808Z",
     "iopub.status.busy": "2022-07-29T10:24:44.456931Z",
     "iopub.status.idle": "2022-07-29T10:25:25.210478Z",
     "shell.execute_reply": "2022-07-29T10:25:25.209334Z"
    },
    "papermill": {
     "duration": 40.783041,
     "end_time": "2022-07-29T10:25:25.226002",
     "exception": false,
     "start_time": "2022-07-29T10:24:44.442961",
     "status": "completed"
    },
    "tags": []
   },
   "outputs": [
    {
     "name": "stdout",
     "output_type": "stream",
     "text": [
      "Cross-Validation Accuracy Scores - [0.75594264 0.76142816 0.76123568 0.76008084 0.75880654 0.75890279\n",
      " 0.75620789 0.76381136 0.75880654 0.7692974 ]\n",
      "Cross-Validation Accuracy Scores AVG - 0.7604519856850283\n"
     ]
    }
   ],
   "source": [
    "RFC3 = cross_val_score(RandomForestClassifier(n_estimators=40), X3, Y3,cv=10)\n",
    "print('Cross-Validation Accuracy Scores -', RFC3)\n",
    "print('Cross-Validation Accuracy Scores AVG -', RFC3.mean())"
   ]
  },
  {
   "cell_type": "code",
   "execution_count": 29,
   "id": "2dd5c65f",
   "metadata": {
    "execution": {
     "iopub.execute_input": "2022-07-29T10:25:25.254545Z",
     "iopub.status.busy": "2022-07-29T10:25:25.253686Z",
     "iopub.status.idle": "2022-07-29T10:25:55.399269Z",
     "shell.execute_reply": "2022-07-29T10:25:55.398134Z"
    },
    "papermill": {
     "duration": 30.174915,
     "end_time": "2022-07-29T10:25:55.414322",
     "exception": false,
     "start_time": "2022-07-29T10:25:25.239407",
     "status": "completed"
    },
    "tags": []
   },
   "outputs": [
    {
     "name": "stdout",
     "output_type": "stream",
     "text": [
      "Cross-Validation Accuracy Scores - [0.94552979 0.94283515 0.94273891 0.94678087 0.94465833 0.94090472\n",
      " 0.94562079 0.94706449 0.94331088 0.94533205]\n",
      "Cross-Validation Accuracy Scores AVG - 0.9444775949498755\n"
     ]
    }
   ],
   "source": [
    "RFC4 = cross_val_score(RandomForestClassifier(n_estimators=40), X4, Y4,cv=10)\n",
    "print('Cross-Validation Accuracy Scores -', RFC4)\n",
    "print('Cross-Validation Accuracy Scores AVG -', RFC4.mean())"
   ]
  },
  {
   "cell_type": "code",
   "execution_count": 30,
   "id": "80b207ea",
   "metadata": {
    "execution": {
     "iopub.execute_input": "2022-07-29T10:25:55.442786Z",
     "iopub.status.busy": "2022-07-29T10:25:55.442053Z",
     "iopub.status.idle": "2022-07-29T10:25:55.457874Z",
     "shell.execute_reply": "2022-07-29T10:25:55.456857Z"
    },
    "papermill": {
     "duration": 0.033133,
     "end_time": "2022-07-29T10:25:55.460624",
     "exception": false,
     "start_time": "2022-07-29T10:25:55.427491",
     "status": "completed"
    },
    "tags": []
   },
   "outputs": [
    {
     "data": {
      "text/html": [
       "<style type=\"text/css\">\n",
       "#T_e64ad_row0_col10 {\n",
       "  background-color: #fff7f3;\n",
       "  color: #000000;\n",
       "}\n",
       "#T_e64ad_row1_col10 {\n",
       "  background-color: #49006a;\n",
       "  color: #f1f1f1;\n",
       "}\n",
       "</style>\n",
       "<table id=\"T_e64ad_\">\n",
       "  <thead>\n",
       "    <tr>\n",
       "      <th class=\"blank level0\" >&nbsp;</th>\n",
       "      <th class=\"col_heading level0 col0\" >0</th>\n",
       "      <th class=\"col_heading level0 col1\" >1</th>\n",
       "      <th class=\"col_heading level0 col2\" >2</th>\n",
       "      <th class=\"col_heading level0 col3\" >3</th>\n",
       "      <th class=\"col_heading level0 col4\" >4</th>\n",
       "      <th class=\"col_heading level0 col5\" >5</th>\n",
       "      <th class=\"col_heading level0 col6\" >6</th>\n",
       "      <th class=\"col_heading level0 col7\" >7</th>\n",
       "      <th class=\"col_heading level0 col8\" >8</th>\n",
       "      <th class=\"col_heading level0 col9\" >9</th>\n",
       "      <th class=\"col_heading level0 col10\" >avg</th>\n",
       "    </tr>\n",
       "  </thead>\n",
       "  <tbody>\n",
       "    <tr>\n",
       "      <th id=\"T_e64ad_level0_row0\" class=\"row_heading level0 row0\" >RFC_Passenger_data</th>\n",
       "      <td id=\"T_e64ad_row0_col0\" class=\"data row0 col0\" >0.755943</td>\n",
       "      <td id=\"T_e64ad_row0_col1\" class=\"data row0 col1\" >0.761428</td>\n",
       "      <td id=\"T_e64ad_row0_col2\" class=\"data row0 col2\" >0.761236</td>\n",
       "      <td id=\"T_e64ad_row0_col3\" class=\"data row0 col3\" >0.760081</td>\n",
       "      <td id=\"T_e64ad_row0_col4\" class=\"data row0 col4\" >0.758807</td>\n",
       "      <td id=\"T_e64ad_row0_col5\" class=\"data row0 col5\" >0.758903</td>\n",
       "      <td id=\"T_e64ad_row0_col6\" class=\"data row0 col6\" >0.756208</td>\n",
       "      <td id=\"T_e64ad_row0_col7\" class=\"data row0 col7\" >0.763811</td>\n",
       "      <td id=\"T_e64ad_row0_col8\" class=\"data row0 col8\" >0.758807</td>\n",
       "      <td id=\"T_e64ad_row0_col9\" class=\"data row0 col9\" >0.769297</td>\n",
       "      <td id=\"T_e64ad_row0_col10\" class=\"data row0 col10\" >0.760452</td>\n",
       "    </tr>\n",
       "    <tr>\n",
       "      <th id=\"T_e64ad_level0_row1\" class=\"row_heading level0 row1\" >RFC_passenger_experience</th>\n",
       "      <td id=\"T_e64ad_row1_col0\" class=\"data row1 col0\" >0.945530</td>\n",
       "      <td id=\"T_e64ad_row1_col1\" class=\"data row1 col1\" >0.942835</td>\n",
       "      <td id=\"T_e64ad_row1_col2\" class=\"data row1 col2\" >0.942739</td>\n",
       "      <td id=\"T_e64ad_row1_col3\" class=\"data row1 col3\" >0.946781</td>\n",
       "      <td id=\"T_e64ad_row1_col4\" class=\"data row1 col4\" >0.944658</td>\n",
       "      <td id=\"T_e64ad_row1_col5\" class=\"data row1 col5\" >0.940905</td>\n",
       "      <td id=\"T_e64ad_row1_col6\" class=\"data row1 col6\" >0.945621</td>\n",
       "      <td id=\"T_e64ad_row1_col7\" class=\"data row1 col7\" >0.947064</td>\n",
       "      <td id=\"T_e64ad_row1_col8\" class=\"data row1 col8\" >0.943311</td>\n",
       "      <td id=\"T_e64ad_row1_col9\" class=\"data row1 col9\" >0.945332</td>\n",
       "      <td id=\"T_e64ad_row1_col10\" class=\"data row1 col10\" >0.944478</td>\n",
       "    </tr>\n",
       "  </tbody>\n",
       "</table>\n"
      ],
      "text/plain": [
       "<pandas.io.formats.style.Styler at 0x7f8a3ff5b410>"
      ]
     },
     "execution_count": 30,
     "metadata": {},
     "output_type": "execute_result"
    }
   ],
   "source": [
    "models = { \"RFC_Passenger_data\": RFC3, \"RFC_passenger_experience\": RFC4 }\n",
    "df2 = pd.DataFrame(models)\n",
    "\n",
    "df_profile_service = df2.transpose()\n",
    "df_profile_service[\"avg\"]= df_profile_service.mean(axis=1)\n",
    "df_profile_service.style.background_gradient(cmap =\"RdPu\" ,subset='avg')"
   ]
  },
  {
   "cell_type": "markdown",
   "id": "e084492d",
   "metadata": {
    "execution": {
     "iopub.execute_input": "2022-07-24T17:13:56.163570Z",
     "iopub.status.busy": "2022-07-24T17:13:56.163084Z"
    },
    "papermill": {
     "duration": 0.013076,
     "end_time": "2022-07-29T10:25:55.486994",
     "exception": false,
     "start_time": "2022-07-29T10:25:55.473918",
     "status": "completed"
    },
    "tags": []
   },
   "source": [
    "# Conclusion \n",
    "This was part two of a two part series examining customer satisfaction. As this part of the project highlights, the passengers overall satisfaction could be predicted with a high degree of accuracy. This implies that their satisfaction is not removed from their experience of the services and thus if the airline is keen to improve customer satisfaction, quality of the service must be improved. \n",
    "\n",
    "In a workplace, projects such as these may be the first step in improving the company’s effectiveness. In most cases, stakeholders who accept the issue of low satisfaction may not require such extensive evidence and argument to improve its services. However, there may be instances where stakeholders may not recognise an issue. In this case, a comprehensive argument such as this may be needed. \n",
    "\n",
    "# Appendix \n",
    "Below is the code for the SVC model. However this model is not recommended as due to the size of the data and the computational power required. \n"
   ]
  },
  {
   "cell_type": "code",
   "execution_count": 31,
   "id": "b9088645",
   "metadata": {
    "execution": {
     "iopub.execute_input": "2022-07-29T10:25:55.515430Z",
     "iopub.status.busy": "2022-07-29T10:25:55.514717Z",
     "iopub.status.idle": "2022-07-29T10:25:55.519835Z",
     "shell.execute_reply": "2022-07-29T10:25:55.518793Z"
    },
    "papermill": {
     "duration": 0.021528,
     "end_time": "2022-07-29T10:25:55.521833",
     "exception": false,
     "start_time": "2022-07-29T10:25:55.500305",
     "status": "completed"
    },
    "tags": []
   },
   "outputs": [],
   "source": [
    "from sklearn.model_selection import train_test_split"
   ]
  },
  {
   "cell_type": "code",
   "execution_count": 32,
   "id": "4c7ab697",
   "metadata": {
    "execution": {
     "iopub.execute_input": "2022-07-29T10:25:55.550214Z",
     "iopub.status.busy": "2022-07-29T10:25:55.549866Z",
     "iopub.status.idle": "2022-07-29T10:25:55.577322Z",
     "shell.execute_reply": "2022-07-29T10:25:55.576378Z"
    },
    "papermill": {
     "duration": 0.044432,
     "end_time": "2022-07-29T10:25:55.579746",
     "exception": false,
     "start_time": "2022-07-29T10:25:55.535314",
     "status": "completed"
    },
    "tags": []
   },
   "outputs": [],
   "source": [
    "X_train,X_test, y_train, y_test = train_test_split(X1_scaled,Y1, test_size = .33, random_state = 360)"
   ]
  },
  {
   "cell_type": "code",
   "execution_count": 33,
   "id": "52e6cf84",
   "metadata": {
    "execution": {
     "iopub.execute_input": "2022-07-29T10:25:55.608368Z",
     "iopub.status.busy": "2022-07-29T10:25:55.607742Z",
     "iopub.status.idle": "2022-07-29T10:27:29.284370Z",
     "shell.execute_reply": "2022-07-29T10:27:29.283131Z"
    },
    "papermill": {
     "duration": 93.707338,
     "end_time": "2022-07-29T10:27:29.300253",
     "exception": false,
     "start_time": "2022-07-29T10:25:55.592915",
     "status": "completed"
    },
    "tags": []
   },
   "outputs": [
    {
     "data": {
      "text/plain": [
       "SVC()"
      ]
     },
     "execution_count": 33,
     "metadata": {},
     "output_type": "execute_result"
    }
   ],
   "source": [
    "model = SVC()\n",
    "model.fit(X_train, y_train)"
   ]
  },
  {
   "cell_type": "code",
   "execution_count": 34,
   "id": "7c247825",
   "metadata": {
    "execution": {
     "iopub.execute_input": "2022-07-29T10:27:29.329598Z",
     "iopub.status.busy": "2022-07-29T10:27:29.329193Z",
     "iopub.status.idle": "2022-07-29T10:27:55.394864Z",
     "shell.execute_reply": "2022-07-29T10:27:55.393630Z"
    },
    "papermill": {
     "duration": 26.083639,
     "end_time": "2022-07-29T10:27:55.397614",
     "exception": false,
     "start_time": "2022-07-29T10:27:29.313975",
     "status": "completed"
    },
    "tags": []
   },
   "outputs": [],
   "source": [
    "predictions = model.predict(X_test)"
   ]
  },
  {
   "cell_type": "code",
   "execution_count": 35,
   "id": "1b99076d",
   "metadata": {
    "execution": {
     "iopub.execute_input": "2022-07-29T10:27:55.426912Z",
     "iopub.status.busy": "2022-07-29T10:27:55.426515Z",
     "iopub.status.idle": "2022-07-29T10:27:55.432306Z",
     "shell.execute_reply": "2022-07-29T10:27:55.431387Z"
    },
    "papermill": {
     "duration": 0.02302,
     "end_time": "2022-07-29T10:27:55.434546",
     "exception": false,
     "start_time": "2022-07-29T10:27:55.411526",
     "status": "completed"
    },
    "tags": []
   },
   "outputs": [],
   "source": [
    "from sklearn.metrics import classification_report, confusion_matrix"
   ]
  },
  {
   "cell_type": "code",
   "execution_count": 36,
   "id": "d8f39763",
   "metadata": {
    "execution": {
     "iopub.execute_input": "2022-07-29T10:27:55.464755Z",
     "iopub.status.busy": "2022-07-29T10:27:55.463966Z",
     "iopub.status.idle": "2022-07-29T10:27:55.533979Z",
     "shell.execute_reply": "2022-07-29T10:27:55.532390Z"
    },
    "papermill": {
     "duration": 0.087849,
     "end_time": "2022-07-29T10:27:55.536464",
     "exception": false,
     "start_time": "2022-07-29T10:27:55.448615",
     "status": "completed"
    },
    "tags": []
   },
   "outputs": [
    {
     "name": "stdout",
     "output_type": "stream",
     "text": [
      "[[18765   653]\n",
      " [  956 13915]]\n",
      "              precision    recall  f1-score   support\n",
      "\n",
      "           0       0.95      0.97      0.96     19418\n",
      "           1       0.96      0.94      0.95     14871\n",
      "\n",
      "    accuracy                           0.95     34289\n",
      "   macro avg       0.95      0.95      0.95     34289\n",
      "weighted avg       0.95      0.95      0.95     34289\n",
      "\n"
     ]
    }
   ],
   "source": [
    "print(confusion_matrix(y_test, predictions))\n",
    "print(classification_report (y_test, predictions))\n"
   ]
  }
 ],
 "metadata": {
  "kernelspec": {
   "display_name": "Python 3",
   "language": "python",
   "name": "python3"
  },
  "language_info": {
   "codemirror_mode": {
    "name": "ipython",
    "version": 3
   },
   "file_extension": ".py",
   "mimetype": "text/x-python",
   "name": "python",
   "nbconvert_exporter": "python",
   "pygments_lexer": "ipython3",
   "version": "3.7.12"
  },
  "papermill": {
   "default_parameters": {},
   "duration": 460.144352,
   "end_time": "2022-07-29T10:27:56.272846",
   "environment_variables": {},
   "exception": null,
   "input_path": "__notebook__.ipynb",
   "output_path": "__notebook__.ipynb",
   "parameters": {},
   "start_time": "2022-07-29T10:20:16.128494",
   "version": "2.3.4"
  }
 },
 "nbformat": 4,
 "nbformat_minor": 5
}
