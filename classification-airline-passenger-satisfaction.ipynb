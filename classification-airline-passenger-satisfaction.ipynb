{
 "cells": [
  {
   "cell_type": "markdown",
   "id": "a5d65d8d",
   "metadata": {
    "papermill": {
     "duration": 0.013398,
     "end_time": "2022-07-26T06:43:49.171763",
     "exception": false,
     "start_time": "2022-07-26T06:43:49.158365",
     "status": "completed"
    },
    "tags": []
   },
   "source": [
    "*Author's comment: If you liked my work, please dont forget to upvote.*"
   ]
  },
  {
   "cell_type": "markdown",
   "id": "5d41191f",
   "metadata": {
    "papermill": {
     "duration": 0.011755,
     "end_time": "2022-07-26T06:43:49.195804",
     "exception": false,
     "start_time": "2022-07-26T06:43:49.184049",
     "status": "completed"
    },
    "tags": []
   },
   "source": [
    "# Introduction\n",
    "Previously, in part one of this project, through EDA and data visualisation, factors affecting passengers’ overall satisfaction was examined. It revealed that passengers who were travelling for non-business purposes found the service poor. However, if faced with a particularly difficult stakeholder, more evidence may be needed to emphasis on improvements. As such, in this project, the data will be modelled to assess how predictable passengers’ overall level of satisfaction was relative to them and their experience of various services. The purpose of this is to further emphasise that the outcomes of the satisfaction are predictable and not random. "
   ]
  },
  {
   "cell_type": "code",
   "execution_count": 1,
   "id": "c4a4ebaa",
   "metadata": {
    "_cell_guid": "b1076dfc-b9ad-4769-8c92-a6c4dae69d19",
    "_uuid": "8f2839f25d086af736a60e9eeb907d3b93b6e0e5",
    "execution": {
     "iopub.execute_input": "2022-07-26T06:43:49.222865Z",
     "iopub.status.busy": "2022-07-26T06:43:49.222416Z",
     "iopub.status.idle": "2022-07-26T06:43:50.901848Z",
     "shell.execute_reply": "2022-07-26T06:43:50.900856Z"
    },
    "papermill": {
     "duration": 1.696748,
     "end_time": "2022-07-26T06:43:50.904893",
     "exception": false,
     "start_time": "2022-07-26T06:43:49.208145",
     "status": "completed"
    },
    "tags": []
   },
   "outputs": [
    {
     "name": "stdout",
     "output_type": "stream",
     "text": [
      "/kaggle/input/airline-passenger-satisfaction/train.csv\n",
      "/kaggle/input/airline-passenger-satisfaction/test.csv\n"
     ]
    }
   ],
   "source": [
    "# libraries for data handling\n",
    "import numpy as np \n",
    "import pandas as pd \n",
    "\n",
    "# kaggle specific library for reading data\n",
    "import os\n",
    "for dirname, _, filenames in os.walk('/kaggle/input'):\n",
    "    for filename in filenames:\n",
    "        print(os.path.join(dirname, filename))\n",
    "\n",
    "# libraries for data visualisation \n",
    "import matplotlib.pyplot as plt\n",
    "import seaborn as sns\n",
    "\n",
    "#set style of graphs\n",
    "sns.set_style(\"whitegrid\")\n",
    "\n",
    "\n",
    "from sklearn.linear_model import LogisticRegression\n",
    "from sklearn.svm import SVC\n",
    "from sklearn.ensemble import RandomForestClassifier\n",
    "from sklearn.model_selection import cross_val_score\n",
    "from sklearn.neighbors import KNeighborsClassifier\n",
    "from sklearn.tree import DecisionTreeClassifier"
   ]
  },
  {
   "cell_type": "markdown",
   "id": "a6dc5191",
   "metadata": {
    "papermill": {
     "duration": 0.011892,
     "end_time": "2022-07-26T06:43:50.929255",
     "exception": false,
     "start_time": "2022-07-26T06:43:50.917363",
     "status": "completed"
    },
    "tags": []
   },
   "source": [
    "# Overview\n",
    "\n",
    "Below is the data following the transformations undertaken in the EDA. Some aspects of the coding have been altered for efficiency and the data visualisations have been removed. \n"
   ]
  },
  {
   "cell_type": "code",
   "execution_count": 2,
   "id": "3ec1f2a0",
   "metadata": {
    "execution": {
     "iopub.execute_input": "2022-07-26T06:43:50.957053Z",
     "iopub.status.busy": "2022-07-26T06:43:50.956289Z",
     "iopub.status.idle": "2022-07-26T06:43:51.399457Z",
     "shell.execute_reply": "2022-07-26T06:43:51.398307Z"
    },
    "papermill": {
     "duration": 0.460436,
     "end_time": "2022-07-26T06:43:51.402177",
     "exception": false,
     "start_time": "2022-07-26T06:43:50.941741",
     "status": "completed"
    },
    "tags": []
   },
   "outputs": [
    {
     "data": {
      "text/html": [
       "<div>\n",
       "<style scoped>\n",
       "    .dataframe tbody tr th:only-of-type {\n",
       "        vertical-align: middle;\n",
       "    }\n",
       "\n",
       "    .dataframe tbody tr th {\n",
       "        vertical-align: top;\n",
       "    }\n",
       "\n",
       "    .dataframe thead th {\n",
       "        text-align: right;\n",
       "    }\n",
       "</style>\n",
       "<table border=\"1\" class=\"dataframe\">\n",
       "  <thead>\n",
       "    <tr style=\"text-align: right;\">\n",
       "      <th></th>\n",
       "      <th>Unnamed: 0</th>\n",
       "      <th>id</th>\n",
       "      <th>Gender</th>\n",
       "      <th>Customer Type</th>\n",
       "      <th>Age</th>\n",
       "      <th>Type of Travel</th>\n",
       "      <th>Class</th>\n",
       "      <th>Flight Distance</th>\n",
       "      <th>Inflight wifi service</th>\n",
       "      <th>Departure/Arrival time convenient</th>\n",
       "      <th>...</th>\n",
       "      <th>Inflight entertainment</th>\n",
       "      <th>On-board service</th>\n",
       "      <th>Leg room service</th>\n",
       "      <th>Baggage handling</th>\n",
       "      <th>Checkin service</th>\n",
       "      <th>Inflight service</th>\n",
       "      <th>Cleanliness</th>\n",
       "      <th>Departure Delay in Minutes</th>\n",
       "      <th>Arrival Delay in Minutes</th>\n",
       "      <th>satisfaction</th>\n",
       "    </tr>\n",
       "  </thead>\n",
       "  <tbody>\n",
       "    <tr>\n",
       "      <th>0</th>\n",
       "      <td>0</td>\n",
       "      <td>70172</td>\n",
       "      <td>Male</td>\n",
       "      <td>Loyal Customer</td>\n",
       "      <td>13</td>\n",
       "      <td>Personal Travel</td>\n",
       "      <td>Eco Plus</td>\n",
       "      <td>460</td>\n",
       "      <td>3</td>\n",
       "      <td>4</td>\n",
       "      <td>...</td>\n",
       "      <td>5</td>\n",
       "      <td>4</td>\n",
       "      <td>3</td>\n",
       "      <td>4</td>\n",
       "      <td>4</td>\n",
       "      <td>5</td>\n",
       "      <td>5</td>\n",
       "      <td>25</td>\n",
       "      <td>18.0</td>\n",
       "      <td>neutral or dissatisfied</td>\n",
       "    </tr>\n",
       "    <tr>\n",
       "      <th>1</th>\n",
       "      <td>1</td>\n",
       "      <td>5047</td>\n",
       "      <td>Male</td>\n",
       "      <td>disloyal Customer</td>\n",
       "      <td>25</td>\n",
       "      <td>Business travel</td>\n",
       "      <td>Business</td>\n",
       "      <td>235</td>\n",
       "      <td>3</td>\n",
       "      <td>2</td>\n",
       "      <td>...</td>\n",
       "      <td>1</td>\n",
       "      <td>1</td>\n",
       "      <td>5</td>\n",
       "      <td>3</td>\n",
       "      <td>1</td>\n",
       "      <td>4</td>\n",
       "      <td>1</td>\n",
       "      <td>1</td>\n",
       "      <td>6.0</td>\n",
       "      <td>neutral or dissatisfied</td>\n",
       "    </tr>\n",
       "    <tr>\n",
       "      <th>2</th>\n",
       "      <td>2</td>\n",
       "      <td>110028</td>\n",
       "      <td>Female</td>\n",
       "      <td>Loyal Customer</td>\n",
       "      <td>26</td>\n",
       "      <td>Business travel</td>\n",
       "      <td>Business</td>\n",
       "      <td>1142</td>\n",
       "      <td>2</td>\n",
       "      <td>2</td>\n",
       "      <td>...</td>\n",
       "      <td>5</td>\n",
       "      <td>4</td>\n",
       "      <td>3</td>\n",
       "      <td>4</td>\n",
       "      <td>4</td>\n",
       "      <td>4</td>\n",
       "      <td>5</td>\n",
       "      <td>0</td>\n",
       "      <td>0.0</td>\n",
       "      <td>satisfied</td>\n",
       "    </tr>\n",
       "    <tr>\n",
       "      <th>3</th>\n",
       "      <td>3</td>\n",
       "      <td>24026</td>\n",
       "      <td>Female</td>\n",
       "      <td>Loyal Customer</td>\n",
       "      <td>25</td>\n",
       "      <td>Business travel</td>\n",
       "      <td>Business</td>\n",
       "      <td>562</td>\n",
       "      <td>2</td>\n",
       "      <td>5</td>\n",
       "      <td>...</td>\n",
       "      <td>2</td>\n",
       "      <td>2</td>\n",
       "      <td>5</td>\n",
       "      <td>3</td>\n",
       "      <td>1</td>\n",
       "      <td>4</td>\n",
       "      <td>2</td>\n",
       "      <td>11</td>\n",
       "      <td>9.0</td>\n",
       "      <td>neutral or dissatisfied</td>\n",
       "    </tr>\n",
       "    <tr>\n",
       "      <th>4</th>\n",
       "      <td>4</td>\n",
       "      <td>119299</td>\n",
       "      <td>Male</td>\n",
       "      <td>Loyal Customer</td>\n",
       "      <td>61</td>\n",
       "      <td>Business travel</td>\n",
       "      <td>Business</td>\n",
       "      <td>214</td>\n",
       "      <td>3</td>\n",
       "      <td>3</td>\n",
       "      <td>...</td>\n",
       "      <td>3</td>\n",
       "      <td>3</td>\n",
       "      <td>4</td>\n",
       "      <td>4</td>\n",
       "      <td>3</td>\n",
       "      <td>3</td>\n",
       "      <td>3</td>\n",
       "      <td>0</td>\n",
       "      <td>0.0</td>\n",
       "      <td>satisfied</td>\n",
       "    </tr>\n",
       "  </tbody>\n",
       "</table>\n",
       "<p>5 rows × 25 columns</p>\n",
       "</div>"
      ],
      "text/plain": [
       "   Unnamed: 0      id  Gender      Customer Type  Age   Type of Travel  \\\n",
       "0           0   70172    Male     Loyal Customer   13  Personal Travel   \n",
       "1           1    5047    Male  disloyal Customer   25  Business travel   \n",
       "2           2  110028  Female     Loyal Customer   26  Business travel   \n",
       "3           3   24026  Female     Loyal Customer   25  Business travel   \n",
       "4           4  119299    Male     Loyal Customer   61  Business travel   \n",
       "\n",
       "      Class  Flight Distance  Inflight wifi service  \\\n",
       "0  Eco Plus              460                      3   \n",
       "1  Business              235                      3   \n",
       "2  Business             1142                      2   \n",
       "3  Business              562                      2   \n",
       "4  Business              214                      3   \n",
       "\n",
       "   Departure/Arrival time convenient  ...  Inflight entertainment  \\\n",
       "0                                  4  ...                       5   \n",
       "1                                  2  ...                       1   \n",
       "2                                  2  ...                       5   \n",
       "3                                  5  ...                       2   \n",
       "4                                  3  ...                       3   \n",
       "\n",
       "   On-board service  Leg room service  Baggage handling  Checkin service  \\\n",
       "0                 4                 3                 4                4   \n",
       "1                 1                 5                 3                1   \n",
       "2                 4                 3                 4                4   \n",
       "3                 2                 5                 3                1   \n",
       "4                 3                 4                 4                3   \n",
       "\n",
       "   Inflight service  Cleanliness  Departure Delay in Minutes  \\\n",
       "0                 5            5                          25   \n",
       "1                 4            1                           1   \n",
       "2                 4            5                           0   \n",
       "3                 4            2                          11   \n",
       "4                 3            3                           0   \n",
       "\n",
       "   Arrival Delay in Minutes             satisfaction  \n",
       "0                      18.0  neutral or dissatisfied  \n",
       "1                       6.0  neutral or dissatisfied  \n",
       "2                       0.0                satisfied  \n",
       "3                       9.0  neutral or dissatisfied  \n",
       "4                       0.0                satisfied  \n",
       "\n",
       "[5 rows x 25 columns]"
      ]
     },
     "execution_count": 2,
     "metadata": {},
     "output_type": "execute_result"
    }
   ],
   "source": [
    "# import data\n",
    "train = pd.read_csv(\"/kaggle/input/airline-passenger-satisfaction/train.csv\", )\n",
    "\n",
    "# show to 5 rows\n",
    "train.head()"
   ]
  },
  {
   "cell_type": "code",
   "execution_count": 3,
   "id": "4d54128d",
   "metadata": {
    "execution": {
     "iopub.execute_input": "2022-07-26T06:43:51.429775Z",
     "iopub.status.busy": "2022-07-26T06:43:51.429070Z",
     "iopub.status.idle": "2022-07-26T06:43:51.518050Z",
     "shell.execute_reply": "2022-07-26T06:43:51.516752Z"
    },
    "papermill": {
     "duration": 0.105963,
     "end_time": "2022-07-26T06:43:51.520895",
     "exception": false,
     "start_time": "2022-07-26T06:43:51.414932",
     "status": "completed"
    },
    "tags": []
   },
   "outputs": [],
   "source": [
    "# drop unnamed column\n",
    "train.drop(\"Unnamed: 0\", axis = 1, inplace = True)\n",
    "\n",
    "#create dummy variable \n",
    "satisfaction_dummmy = pd.get_dummies(train[\"satisfaction\"], drop_first = True)\n",
    "Gender_dummmy = pd.get_dummies(train[\"Gender\"], drop_first = True)\n",
    "Customer_dummmy = pd.get_dummies(train[\"Customer Type\"], drop_first = True)\n",
    "Type_dummmy = pd.get_dummies(train[\"Type of Travel\"], drop_first = True)\n",
    "\n",
    "\n",
    "train = pd.concat([train, satisfaction_dummmy, Gender_dummmy, Customer_dummmy, Type_dummmy], axis=1)"
   ]
  },
  {
   "cell_type": "code",
   "execution_count": 4,
   "id": "d373d223",
   "metadata": {
    "execution": {
     "iopub.execute_input": "2022-07-26T06:43:51.548292Z",
     "iopub.status.busy": "2022-07-26T06:43:51.547854Z",
     "iopub.status.idle": "2022-07-26T06:43:51.552486Z",
     "shell.execute_reply": "2022-07-26T06:43:51.551368Z"
    },
    "papermill": {
     "duration": 0.021394,
     "end_time": "2022-07-26T06:43:51.554840",
     "exception": false,
     "start_time": "2022-07-26T06:43:51.533446",
     "status": "completed"
    },
    "tags": []
   },
   "outputs": [],
   "source": [
    "# library for encoding variables\n",
    "from sklearn.preprocessing import LabelEncoder "
   ]
  },
  {
   "cell_type": "code",
   "execution_count": 5,
   "id": "36e6e87d",
   "metadata": {
    "execution": {
     "iopub.execute_input": "2022-07-26T06:43:51.582254Z",
     "iopub.status.busy": "2022-07-26T06:43:51.581831Z",
     "iopub.status.idle": "2022-07-26T06:43:51.621396Z",
     "shell.execute_reply": "2022-07-26T06:43:51.620291Z"
    },
    "papermill": {
     "duration": 0.056608,
     "end_time": "2022-07-26T06:43:51.623941",
     "exception": false,
     "start_time": "2022-07-26T06:43:51.567333",
     "status": "completed"
    },
    "tags": []
   },
   "outputs": [],
   "source": [
    "# encode class variable\n",
    "le = LabelEncoder()\n",
    "train['Class_code'] = le.fit_transform(train['Class'])"
   ]
  },
  {
   "cell_type": "markdown",
   "id": "4266315a",
   "metadata": {
    "papermill": {
     "duration": 0.012701,
     "end_time": "2022-07-26T06:43:51.649407",
     "exception": false,
     "start_time": "2022-07-26T06:43:51.636706",
     "status": "completed"
    },
    "tags": []
   },
   "source": [
    "As the first part of the project highlighted, the relationship between valuation of the services and its impact on the overall satisfaction was clear when examined in its entirety. As such, in this section of the project, each model will be run twice. Once where the services are evaluated individually and one where the total percent of the services is evaluated. "
   ]
  },
  {
   "cell_type": "code",
   "execution_count": 6,
   "id": "16b31965",
   "metadata": {
    "execution": {
     "iopub.execute_input": "2022-07-26T06:43:51.676848Z",
     "iopub.status.busy": "2022-07-26T06:43:51.676074Z",
     "iopub.status.idle": "2022-07-26T06:43:51.717361Z",
     "shell.execute_reply": "2022-07-26T06:43:51.716478Z"
    },
    "papermill": {
     "duration": 0.058029,
     "end_time": "2022-07-26T06:43:51.719913",
     "exception": false,
     "start_time": "2022-07-26T06:43:51.661884",
     "status": "completed"
    },
    "tags": []
   },
   "outputs": [],
   "source": [
    "# single out variables which are related to service scores\n",
    "service_scores = train[['Inflight wifi service','Departure/Arrival time convenient', \n",
    "                              'Ease of Online booking','Gate location', 'Food and drink', \n",
    "                              'Online boarding', 'Seat comfort','Inflight entertainment', 'On-board service', 'Leg room service',\n",
    "                              'Baggage handling', 'Checkin service', 'Inflight service','Cleanliness']]"
   ]
  },
  {
   "cell_type": "code",
   "execution_count": 7,
   "id": "9d142cdd",
   "metadata": {
    "execution": {
     "iopub.execute_input": "2022-07-26T06:43:51.747443Z",
     "iopub.status.busy": "2022-07-26T06:43:51.746659Z",
     "iopub.status.idle": "2022-07-26T06:43:51.757840Z",
     "shell.execute_reply": "2022-07-26T06:43:51.757007Z"
    },
    "papermill": {
     "duration": 0.02791,
     "end_time": "2022-07-26T06:43:51.760232",
     "exception": false,
     "start_time": "2022-07-26T06:43:51.732322",
     "status": "completed"
    },
    "tags": []
   },
   "outputs": [],
   "source": [
    "# calculate sum of scores\n",
    "train[\"Total_score\"] = service_scores.sum(axis = 1)\n",
    "\n",
    "# find max possible score \n",
    "max_score = len(service_scores.columns)*5\n",
    "\n",
    "# convert sum of scores to percentage\n",
    "train[\"Total_score_percent\"] = round((train[\"Total_score\"]/max_score)*100,1)"
   ]
  },
  {
   "cell_type": "code",
   "execution_count": 8,
   "id": "f193b4b3",
   "metadata": {
    "execution": {
     "iopub.execute_input": "2022-07-26T06:43:51.787697Z",
     "iopub.status.busy": "2022-07-26T06:43:51.786920Z",
     "iopub.status.idle": "2022-07-26T06:43:51.793862Z",
     "shell.execute_reply": "2022-07-26T06:43:51.793125Z"
    },
    "papermill": {
     "duration": 0.023811,
     "end_time": "2022-07-26T06:43:51.796553",
     "exception": false,
     "start_time": "2022-07-26T06:43:51.772742",
     "status": "completed"
    },
    "tags": []
   },
   "outputs": [],
   "source": [
    "#round departure delay to hours\n",
    "train[\"Departure Delay in hour\"]= round(train[\"Departure Delay in Minutes\"]/60,1)"
   ]
  },
  {
   "cell_type": "code",
   "execution_count": 9,
   "id": "aadb856b",
   "metadata": {
    "execution": {
     "iopub.execute_input": "2022-07-26T06:43:51.823829Z",
     "iopub.status.busy": "2022-07-26T06:43:51.823015Z",
     "iopub.status.idle": "2022-07-26T06:43:51.829603Z",
     "shell.execute_reply": "2022-07-26T06:43:51.828725Z"
    },
    "papermill": {
     "duration": 0.02311,
     "end_time": "2022-07-26T06:43:51.832055",
     "exception": false,
     "start_time": "2022-07-26T06:43:51.808945",
     "status": "completed"
    },
    "tags": []
   },
   "outputs": [],
   "source": [
    "# update null values to 0 \n",
    "train['Arrival Delay in Minutes'] = train['Arrival Delay in Minutes'].fillna(0)"
   ]
  },
  {
   "cell_type": "code",
   "execution_count": 10,
   "id": "59f43184",
   "metadata": {
    "execution": {
     "iopub.execute_input": "2022-07-26T06:43:51.860251Z",
     "iopub.status.busy": "2022-07-26T06:43:51.859821Z",
     "iopub.status.idle": "2022-07-26T06:43:51.866741Z",
     "shell.execute_reply": "2022-07-26T06:43:51.865850Z"
    },
    "papermill": {
     "duration": 0.023912,
     "end_time": "2022-07-26T06:43:51.869074",
     "exception": false,
     "start_time": "2022-07-26T06:43:51.845162",
     "status": "completed"
    },
    "tags": []
   },
   "outputs": [],
   "source": [
    "#round arrival delay to hours\n",
    "train[\"Arrival Delay in hour\"]= round(train[\"Arrival Delay in Minutes\"]/60,1)"
   ]
  },
  {
   "cell_type": "code",
   "execution_count": 11,
   "id": "89266be2",
   "metadata": {
    "execution": {
     "iopub.execute_input": "2022-07-26T06:43:51.898010Z",
     "iopub.status.busy": "2022-07-26T06:43:51.896656Z",
     "iopub.status.idle": "2022-07-26T06:43:51.935566Z",
     "shell.execute_reply": "2022-07-26T06:43:51.934534Z"
    },
    "papermill": {
     "duration": 0.056616,
     "end_time": "2022-07-26T06:43:51.938661",
     "exception": false,
     "start_time": "2022-07-26T06:43:51.882045",
     "status": "completed"
    },
    "tags": []
   },
   "outputs": [],
   "source": [
    "# rearrange values\n",
    "train = train[['id', 'Gender','Male', 'Customer Type','disloyal Customer', 'Age', 'Type of Travel','Personal Travel', 'Class',\n",
    "       'Class_code','Flight Distance', 'Inflight wifi service',\n",
    "       'Departure/Arrival time convenient', 'Ease of Online booking',\n",
    "       'Gate location', 'Food and drink', 'Online boarding', 'Seat comfort',\n",
    "       'Inflight entertainment', 'On-board service', 'Leg room service',\n",
    "       'Baggage handling', 'Checkin service', 'Inflight service',\n",
    "       'Cleanliness', 'Total_score',\n",
    "       'Total_score_percent', 'Departure Delay in Minutes','Departure Delay in hour', 'Arrival Delay in Minutes',\n",
    "               'Arrival Delay in hour', 'satisfaction', 'satisfied', ]]"
   ]
  },
  {
   "cell_type": "code",
   "execution_count": 12,
   "id": "dbfa2a26",
   "metadata": {
    "execution": {
     "iopub.execute_input": "2022-07-26T06:43:51.966530Z",
     "iopub.status.busy": "2022-07-26T06:43:51.965818Z",
     "iopub.status.idle": "2022-07-26T06:43:52.049246Z",
     "shell.execute_reply": "2022-07-26T06:43:52.047258Z"
    },
    "papermill": {
     "duration": 0.100881,
     "end_time": "2022-07-26T06:43:52.052116",
     "exception": false,
     "start_time": "2022-07-26T06:43:51.951235",
     "status": "completed"
    },
    "tags": []
   },
   "outputs": [
    {
     "name": "stdout",
     "output_type": "stream",
     "text": [
      "<class 'pandas.core.frame.DataFrame'>\n",
      "RangeIndex: 103904 entries, 0 to 103903\n",
      "Data columns (total 33 columns):\n",
      " #   Column                             Non-Null Count   Dtype  \n",
      "---  ------                             --------------   -----  \n",
      " 0   id                                 103904 non-null  int64  \n",
      " 1   Gender                             103904 non-null  object \n",
      " 2   Male                               103904 non-null  uint8  \n",
      " 3   Customer Type                      103904 non-null  object \n",
      " 4   disloyal Customer                  103904 non-null  uint8  \n",
      " 5   Age                                103904 non-null  int64  \n",
      " 6   Type of Travel                     103904 non-null  object \n",
      " 7   Personal Travel                    103904 non-null  uint8  \n",
      " 8   Class                              103904 non-null  object \n",
      " 9   Class_code                         103904 non-null  int64  \n",
      " 10  Flight Distance                    103904 non-null  int64  \n",
      " 11  Inflight wifi service              103904 non-null  int64  \n",
      " 12  Departure/Arrival time convenient  103904 non-null  int64  \n",
      " 13  Ease of Online booking             103904 non-null  int64  \n",
      " 14  Gate location                      103904 non-null  int64  \n",
      " 15  Food and drink                     103904 non-null  int64  \n",
      " 16  Online boarding                    103904 non-null  int64  \n",
      " 17  Seat comfort                       103904 non-null  int64  \n",
      " 18  Inflight entertainment             103904 non-null  int64  \n",
      " 19  On-board service                   103904 non-null  int64  \n",
      " 20  Leg room service                   103904 non-null  int64  \n",
      " 21  Baggage handling                   103904 non-null  int64  \n",
      " 22  Checkin service                    103904 non-null  int64  \n",
      " 23  Inflight service                   103904 non-null  int64  \n",
      " 24  Cleanliness                        103904 non-null  int64  \n",
      " 25  Total_score                        103904 non-null  int64  \n",
      " 26  Total_score_percent                103904 non-null  float64\n",
      " 27  Departure Delay in Minutes         103904 non-null  int64  \n",
      " 28  Departure Delay in hour            103904 non-null  float64\n",
      " 29  Arrival Delay in Minutes           103904 non-null  float64\n",
      " 30  Arrival Delay in hour              103904 non-null  float64\n",
      " 31  satisfaction                       103904 non-null  object \n",
      " 32  satisfied                          103904 non-null  uint8  \n",
      "dtypes: float64(4), int64(20), object(5), uint8(4)\n",
      "memory usage: 23.4+ MB\n"
     ]
    }
   ],
   "source": [
    "# reconfirm variables \n",
    "train.info()"
   ]
  },
  {
   "cell_type": "code",
   "execution_count": 13,
   "id": "10400641",
   "metadata": {
    "execution": {
     "iopub.execute_input": "2022-07-26T06:43:52.079494Z",
     "iopub.status.busy": "2022-07-26T06:43:52.079127Z",
     "iopub.status.idle": "2022-07-26T06:43:52.093502Z",
     "shell.execute_reply": "2022-07-26T06:43:52.092299Z"
    },
    "papermill": {
     "duration": 0.031241,
     "end_time": "2022-07-26T06:43:52.096185",
     "exception": false,
     "start_time": "2022-07-26T06:43:52.064944",
     "status": "completed"
    },
    "tags": []
   },
   "outputs": [],
   "source": [
    "# full list of variables\n",
    "X1 = train[['Male', 'disloyal Customer', 'Age', 'Personal Travel', 'Class_code','Flight Distance', \n",
    "       'Inflight wifi service',\n",
    "       'Departure/Arrival time convenient', 'Ease of Online booking',\n",
    "       'Gate location', 'Food and drink', 'Online boarding', 'Seat comfort',\n",
    "       'Inflight entertainment', 'On-board service', 'Leg room service',\n",
    "       'Baggage handling', 'Checkin service', 'Inflight service',\n",
    "       'Cleanliness', 'Departure Delay in hour','Arrival Delay in hour',]]\n",
    "Y1 = train['satisfied']"
   ]
  },
  {
   "cell_type": "code",
   "execution_count": 14,
   "id": "d5d1ec3b",
   "metadata": {
    "execution": {
     "iopub.execute_input": "2022-07-26T06:43:52.123809Z",
     "iopub.status.busy": "2022-07-26T06:43:52.123409Z",
     "iopub.status.idle": "2022-07-26T06:43:52.131782Z",
     "shell.execute_reply": "2022-07-26T06:43:52.130484Z"
    },
    "papermill": {
     "duration": 0.025304,
     "end_time": "2022-07-26T06:43:52.134376",
     "exception": false,
     "start_time": "2022-07-26T06:43:52.109072",
     "status": "completed"
    },
    "tags": []
   },
   "outputs": [],
   "source": [
    "# condensed list of variable\n",
    "X2 = train[['Male', 'disloyal Customer', 'Age', 'Personal Travel', 'Class_code','Flight Distance', \n",
    "       'Total_score_percent', 'Departure Delay in hour','Arrival Delay in hour',]]\n",
    "Y2 = train['satisfied']"
   ]
  },
  {
   "cell_type": "markdown",
   "id": "8aad748c",
   "metadata": {
    "papermill": {
     "duration": 0.013041,
     "end_time": "2022-07-26T06:43:52.160303",
     "exception": false,
     "start_time": "2022-07-26T06:43:52.147262",
     "status": "completed"
    },
    "tags": []
   },
   "source": [
    "# Modelling \n",
    "There are several classifications which can be used to model the data. Various models will yield different accuracy results. For this project, the four models will be mainly utilised. They are:\n",
    "* random forest, \n",
    "* logistic regression, \n",
    "* KNN \n",
    "* decision trees. \n",
    "\n",
    "To ensure that the balance in the training dataset does not skew the results, each model will be passed through cross validation.  \n"
   ]
  },
  {
   "cell_type": "markdown",
   "id": "861dab70",
   "metadata": {
    "papermill": {
     "duration": 0.012328,
     "end_time": "2022-07-26T06:43:52.185594",
     "exception": false,
     "start_time": "2022-07-26T06:43:52.173266",
     "status": "completed"
    },
    "tags": []
   },
   "source": [
    "## Logistic Regression"
   ]
  },
  {
   "cell_type": "code",
   "execution_count": 15,
   "id": "449c5d47",
   "metadata": {
    "execution": {
     "iopub.execute_input": "2022-07-26T06:43:52.212786Z",
     "iopub.status.busy": "2022-07-26T06:43:52.212406Z",
     "iopub.status.idle": "2022-07-26T06:44:13.877328Z",
     "shell.execute_reply": "2022-07-26T06:44:13.875225Z"
    },
    "papermill": {
     "duration": 21.683695,
     "end_time": "2022-07-26T06:44:13.881913",
     "exception": false,
     "start_time": "2022-07-26T06:43:52.198218",
     "status": "completed"
    },
    "tags": []
   },
   "outputs": [
    {
     "name": "stdout",
     "output_type": "stream",
     "text": [
      "Cross-Validation Accuracy Scores - [0.87498797 0.87691271 0.87036859 0.87508421 0.8746872  0.87266603\n",
      " 0.87507218 0.87449471 0.88036574 0.880077  ]\n",
      "Cross-Validation Accuracy Scores AVG - 0.8754716327865353\n"
     ]
    }
   ],
   "source": [
    "Log_total_score1 = cross_val_score(LogisticRegression(solver='liblinear',multi_class='ovr'), X1, Y1, cv=10)\n",
    "print('Cross-Validation Accuracy Scores -', Log_total_score1)\n",
    "print('Cross-Validation Accuracy Scores AVG -', Log_total_score1.mean())"
   ]
  },
  {
   "cell_type": "code",
   "execution_count": 16,
   "id": "a1c65e63",
   "metadata": {
    "execution": {
     "iopub.execute_input": "2022-07-26T06:44:13.930798Z",
     "iopub.status.busy": "2022-07-26T06:44:13.930223Z",
     "iopub.status.idle": "2022-07-26T06:44:21.682170Z",
     "shell.execute_reply": "2022-07-26T06:44:21.680944Z"
    },
    "papermill": {
     "duration": 7.780775,
     "end_time": "2022-07-26T06:44:21.686114",
     "exception": false,
     "start_time": "2022-07-26T06:44:13.905339",
     "status": "completed"
    },
    "tags": []
   },
   "outputs": [
    {
     "name": "stdout",
     "output_type": "stream",
     "text": [
      "Cross-Validation Accuracy Scores - [0.84284477 0.84553941 0.8437109  0.84351843 0.83849856 0.83974976\n",
      " 0.84205967 0.84282964 0.85033686 0.85553417]\n",
      "Cross-Validation Accuracy Scores AVG - 0.844462217386798\n"
     ]
    }
   ],
   "source": [
    "Log_total_score2 = cross_val_score(LogisticRegression(solver='liblinear',multi_class='ovr'), X2, Y2, cv=10)\n",
    "print('Cross-Validation Accuracy Scores -', Log_total_score2)\n",
    "print('Cross-Validation Accuracy Scores AVG -', Log_total_score2.mean())"
   ]
  },
  {
   "cell_type": "markdown",
   "id": "84fe845c",
   "metadata": {
    "papermill": {
     "duration": 0.022802,
     "end_time": "2022-07-26T06:44:21.732325",
     "exception": false,
     "start_time": "2022-07-26T06:44:21.709523",
     "status": "completed"
    },
    "tags": []
   },
   "source": [
    "## Random Forest"
   ]
  },
  {
   "cell_type": "code",
   "execution_count": 17,
   "id": "c385c422",
   "metadata": {
    "execution": {
     "iopub.execute_input": "2022-07-26T06:44:21.780909Z",
     "iopub.status.busy": "2022-07-26T06:44:21.780280Z",
     "iopub.status.idle": "2022-07-26T06:45:05.767470Z",
     "shell.execute_reply": "2022-07-26T06:45:05.766108Z"
    },
    "papermill": {
     "duration": 44.027642,
     "end_time": "2022-07-26T06:45:05.783269",
     "exception": false,
     "start_time": "2022-07-26T06:44:21.755627",
     "status": "completed"
    },
    "tags": []
   },
   "outputs": [
    {
     "name": "stdout",
     "output_type": "stream",
     "text": [
      "Cross-Validation Accuracy Scores - [0.96015783 0.96131267 0.96102396 0.96458474 0.96217517 0.9599615\n",
      " 0.96304139 0.95957652 0.96400385 0.96448508]\n",
      "Cross-Validation Accuracy Scores AVG - 0.9620322706525201\n"
     ]
    }
   ],
   "source": [
    "RFC1 = cross_val_score(RandomForestClassifier(n_estimators=40), X1, Y1,cv=10)\n",
    "print('Cross-Validation Accuracy Scores -', RFC1)\n",
    "print('Cross-Validation Accuracy Scores AVG -', RFC1.mean())"
   ]
  },
  {
   "cell_type": "code",
   "execution_count": 18,
   "id": "e6ac7bc8",
   "metadata": {
    "execution": {
     "iopub.execute_input": "2022-07-26T06:45:05.812235Z",
     "iopub.status.busy": "2022-07-26T06:45:05.811572Z",
     "iopub.status.idle": "2022-07-26T06:45:53.404855Z",
     "shell.execute_reply": "2022-07-26T06:45:53.403379Z"
    },
    "papermill": {
     "duration": 47.622691,
     "end_time": "2022-07-26T06:45:53.419889",
     "exception": false,
     "start_time": "2022-07-26T06:45:05.797198",
     "status": "completed"
    },
    "tags": []
   },
   "outputs": [
    {
     "name": "stdout",
     "output_type": "stream",
     "text": [
      "Cross-Validation Accuracy Scores - [0.84582812 0.84274853 0.84996632 0.85006255 0.84359962 0.84196343\n",
      " 0.84677575 0.85033686 0.85370549 0.85803657]\n",
      "Cross-Validation Accuracy Scores AVG - 0.8483023233347063\n"
     ]
    }
   ],
   "source": [
    "RFC2 = cross_val_score(RandomForestClassifier(n_estimators=40), X2, Y2,cv=10)\n",
    "print('Cross-Validation Accuracy Scores -', RFC2)\n",
    "print('Cross-Validation Accuracy Scores AVG -', RFC2.mean())"
   ]
  },
  {
   "cell_type": "markdown",
   "id": "d383a69c",
   "metadata": {
    "papermill": {
     "duration": 0.012488,
     "end_time": "2022-07-26T06:45:53.445665",
     "exception": false,
     "start_time": "2022-07-26T06:45:53.433177",
     "status": "completed"
    },
    "tags": []
   },
   "source": [
    "## KNN"
   ]
  },
  {
   "cell_type": "code",
   "execution_count": 19,
   "id": "f0508719",
   "metadata": {
    "execution": {
     "iopub.execute_input": "2022-07-26T06:45:53.473359Z",
     "iopub.status.busy": "2022-07-26T06:45:53.472928Z",
     "iopub.status.idle": "2022-07-26T06:45:53.536012Z",
     "shell.execute_reply": "2022-07-26T06:45:53.534777Z"
    },
    "papermill": {
     "duration": 0.080157,
     "end_time": "2022-07-26T06:45:53.538782",
     "exception": false,
     "start_time": "2022-07-26T06:45:53.458625",
     "status": "completed"
    },
    "tags": []
   },
   "outputs": [],
   "source": [
    "# scale variables\n",
    "from sklearn.preprocessing import StandardScaler\n",
    "\n",
    "scaler = StandardScaler()\n",
    "scaler.fit(X1)\n",
    "\n",
    "X1_scaled = scaler.transform(X1)\n",
    "\n",
    "scaler = StandardScaler()\n",
    "scaler.fit(X2)\n",
    "\n",
    "X2_scaled = scaler.transform(X2)"
   ]
  },
  {
   "cell_type": "code",
   "execution_count": 20,
   "id": "e9625a4c",
   "metadata": {
    "execution": {
     "iopub.execute_input": "2022-07-26T06:45:53.567148Z",
     "iopub.status.busy": "2022-07-26T06:45:53.566535Z",
     "iopub.status.idle": "2022-07-26T06:48:01.296581Z",
     "shell.execute_reply": "2022-07-26T06:48:01.295237Z"
    },
    "papermill": {
     "duration": 127.761757,
     "end_time": "2022-07-26T06:48:01.313695",
     "exception": false,
     "start_time": "2022-07-26T06:45:53.551938",
     "status": "completed"
    },
    "tags": []
   },
   "outputs": [
    {
     "name": "stdout",
     "output_type": "stream",
     "text": [
      "Cross-Validation Accuracy Scores - [0.91463767 0.90895968 0.91184679 0.91511885 0.91116458 0.91453321\n",
      " 0.91231954 0.90856593 0.91530318 0.91953802]\n",
      "Cross-Validation Accuracy Scores AVG - 0.9131987433783715\n"
     ]
    }
   ],
   "source": [
    "KNN1 = cross_val_score(KNeighborsClassifier(n_neighbors = 2), X1_scaled, Y1,cv=10)\n",
    "print('Cross-Validation Accuracy Scores -', KNN1)\n",
    "print('Cross-Validation Accuracy Scores AVG -', KNN1.mean())"
   ]
  },
  {
   "cell_type": "code",
   "execution_count": 21,
   "id": "fb0cf46d",
   "metadata": {
    "execution": {
     "iopub.execute_input": "2022-07-26T06:48:01.343609Z",
     "iopub.status.busy": "2022-07-26T06:48:01.343227Z",
     "iopub.status.idle": "2022-07-26T06:48:14.188096Z",
     "shell.execute_reply": "2022-07-26T06:48:14.186878Z"
    },
    "papermill": {
     "duration": 12.862856,
     "end_time": "2022-07-26T06:48:14.190552",
     "exception": false,
     "start_time": "2022-07-26T06:48:01.327696",
     "status": "completed"
    },
    "tags": []
   },
   "outputs": [
    {
     "name": "stdout",
     "output_type": "stream",
     "text": [
      "Cross-Validation Accuracy Scores - [0.81031662 0.80954672 0.80791069 0.81599461 0.81000962 0.81000962\n",
      " 0.81385948 0.81847931 0.81607315 0.81953802]\n",
      "Cross-Validation Accuracy Scores AVG - 0.8131737847098561\n"
     ]
    }
   ],
   "source": [
    "KNN2 = cross_val_score(KNeighborsClassifier(n_neighbors = 2), X2_scaled, Y2,cv=10)\n",
    "print('Cross-Validation Accuracy Scores -', KNN2)\n",
    "print('Cross-Validation Accuracy Scores AVG -', KNN2.mean())"
   ]
  },
  {
   "cell_type": "markdown",
   "id": "5e2b2070",
   "metadata": {
    "papermill": {
     "duration": 0.012863,
     "end_time": "2022-07-26T06:48:14.216461",
     "exception": false,
     "start_time": "2022-07-26T06:48:14.203598",
     "status": "completed"
    },
    "tags": []
   },
   "source": [
    "## Decision Tree Classifier"
   ]
  },
  {
   "cell_type": "code",
   "execution_count": 22,
   "id": "eb5f82a0",
   "metadata": {
    "execution": {
     "iopub.execute_input": "2022-07-26T06:48:14.244747Z",
     "iopub.status.busy": "2022-07-26T06:48:14.244098Z",
     "iopub.status.idle": "2022-07-26T06:48:20.312639Z",
     "shell.execute_reply": "2022-07-26T06:48:20.311459Z"
    },
    "papermill": {
     "duration": 6.085749,
     "end_time": "2022-07-26T06:48:20.315331",
     "exception": false,
     "start_time": "2022-07-26T06:48:14.229582",
     "status": "completed"
    },
    "tags": []
   },
   "outputs": [
    {
     "name": "stdout",
     "output_type": "stream",
     "text": [
      "Cross-Validation Accuracy Scores - [0.94572226 0.9458185  0.94678087 0.94995669 0.94706449 0.94610202\n",
      " 0.9454283  0.9479307  0.9479307  0.94744947]\n",
      "Cross-Validation Accuracy Scores AVG - 0.9470183996312052\n"
     ]
    }
   ],
   "source": [
    "decision_tree_result1 = cross_val_score(DecisionTreeClassifier(), X1, Y1,cv=10)\n",
    "print('Cross-Validation Accuracy Scores -', decision_tree_result1)\n",
    "print('Cross-Validation Accuracy Scores AVG -', decision_tree_result1.mean())"
   ]
  },
  {
   "cell_type": "code",
   "execution_count": 23,
   "id": "9b5f8f81",
   "metadata": {
    "execution": {
     "iopub.execute_input": "2022-07-26T06:48:20.344441Z",
     "iopub.status.busy": "2022-07-26T06:48:20.344053Z",
     "iopub.status.idle": "2022-07-26T06:48:24.740922Z",
     "shell.execute_reply": "2022-07-26T06:48:24.739997Z"
    },
    "papermill": {
     "duration": 4.414826,
     "end_time": "2022-07-26T06:48:24.743714",
     "exception": false,
     "start_time": "2022-07-26T06:48:20.328888",
     "status": "completed"
    },
    "tags": []
   },
   "outputs": [
    {
     "name": "stdout",
     "output_type": "stream",
     "text": [
      "Cross-Validation Accuracy Scores - [0.78596863 0.78683476 0.79309017 0.79309017 0.78565929 0.78152069\n",
      " 0.78768046 0.79201155 0.79316651 0.79268527]\n",
      "Cross-Validation Accuracy Scores AVG - 0.7891707508783837\n"
     ]
    }
   ],
   "source": [
    "decision_tree_result2 = cross_val_score(DecisionTreeClassifier(), X2, Y2,cv=10)\n",
    "print('Cross-Validation Accuracy Scores -', decision_tree_result2)\n",
    "print('Cross-Validation Accuracy Scores AVG -', decision_tree_result2.mean())"
   ]
  },
  {
   "cell_type": "code",
   "execution_count": 24,
   "id": "a2dd7f14",
   "metadata": {
    "execution": {
     "iopub.execute_input": "2022-07-26T06:48:24.772879Z",
     "iopub.status.busy": "2022-07-26T06:48:24.772488Z",
     "iopub.status.idle": "2022-07-26T06:48:24.779371Z",
     "shell.execute_reply": "2022-07-26T06:48:24.778208Z"
    },
    "papermill": {
     "duration": 0.024795,
     "end_time": "2022-07-26T06:48:24.782141",
     "exception": false,
     "start_time": "2022-07-26T06:48:24.757346",
     "status": "completed"
    },
    "tags": []
   },
   "outputs": [],
   "source": [
    "models = {'Log_full':Log_total_score1,'Log_limited':Log_total_score1, \"RFC_full\": RFC1, \n",
    "       \"RFC_limited\": RFC2,\"KNN_scaled_full\": KNN1, \"KNN_scaled_limited\": KNN2, \n",
    "          \"decision_tree_full\": decision_tree_result1, \n",
    "          \"decision_tree_limited\":decision_tree_result2,}\n",
    "df = pd.DataFrame(models)"
   ]
  },
  {
   "cell_type": "markdown",
   "id": "a0622f29",
   "metadata": {
    "papermill": {
     "duration": 0.014666,
     "end_time": "2022-07-26T06:48:24.811191",
     "exception": false,
     "start_time": "2022-07-26T06:48:24.796525",
     "status": "completed"
    },
    "tags": []
   },
   "source": [
    "Doing so for both the full range of variables reveals the following: "
   ]
  },
  {
   "cell_type": "code",
   "execution_count": 25,
   "id": "0f5666ca",
   "metadata": {
    "execution": {
     "iopub.execute_input": "2022-07-26T06:48:24.843330Z",
     "iopub.status.busy": "2022-07-26T06:48:24.842567Z",
     "iopub.status.idle": "2022-07-26T06:48:24.930138Z",
     "shell.execute_reply": "2022-07-26T06:48:24.928747Z"
    },
    "papermill": {
     "duration": 0.106454,
     "end_time": "2022-07-26T06:48:24.932990",
     "exception": false,
     "start_time": "2022-07-26T06:48:24.826536",
     "status": "completed"
    },
    "tags": []
   },
   "outputs": [
    {
     "data": {
      "text/html": [
       "<style type=\"text/css\">\n",
       "#T_b33cf_row0_col10, #T_b33cf_row1_col10 {\n",
       "  background-color: #f769a1;\n",
       "  color: #f1f1f1;\n",
       "}\n",
       "#T_b33cf_row2_col10 {\n",
       "  background-color: #49006a;\n",
       "  color: #f1f1f1;\n",
       "}\n",
       "#T_b33cf_row3_col10 {\n",
       "  background-color: #fba9b8;\n",
       "  color: #000000;\n",
       "}\n",
       "#T_b33cf_row4_col10 {\n",
       "  background-color: #ba0e84;\n",
       "  color: #f1f1f1;\n",
       "}\n",
       "#T_b33cf_row5_col10 {\n",
       "  background-color: #fdddda;\n",
       "  color: #000000;\n",
       "}\n",
       "#T_b33cf_row6_col10 {\n",
       "  background-color: #6b0173;\n",
       "  color: #f1f1f1;\n",
       "}\n",
       "#T_b33cf_row7_col10 {\n",
       "  background-color: #fff7f3;\n",
       "  color: #000000;\n",
       "}\n",
       "</style>\n",
       "<table id=\"T_b33cf_\">\n",
       "  <thead>\n",
       "    <tr>\n",
       "      <th class=\"blank level0\" >&nbsp;</th>\n",
       "      <th class=\"col_heading level0 col0\" >0</th>\n",
       "      <th class=\"col_heading level0 col1\" >1</th>\n",
       "      <th class=\"col_heading level0 col2\" >2</th>\n",
       "      <th class=\"col_heading level0 col3\" >3</th>\n",
       "      <th class=\"col_heading level0 col4\" >4</th>\n",
       "      <th class=\"col_heading level0 col5\" >5</th>\n",
       "      <th class=\"col_heading level0 col6\" >6</th>\n",
       "      <th class=\"col_heading level0 col7\" >7</th>\n",
       "      <th class=\"col_heading level0 col8\" >8</th>\n",
       "      <th class=\"col_heading level0 col9\" >9</th>\n",
       "      <th class=\"col_heading level0 col10\" >avg</th>\n",
       "    </tr>\n",
       "  </thead>\n",
       "  <tbody>\n",
       "    <tr>\n",
       "      <th id=\"T_b33cf_level0_row0\" class=\"row_heading level0 row0\" >Log_full</th>\n",
       "      <td id=\"T_b33cf_row0_col0\" class=\"data row0 col0\" >0.874988</td>\n",
       "      <td id=\"T_b33cf_row0_col1\" class=\"data row0 col1\" >0.876913</td>\n",
       "      <td id=\"T_b33cf_row0_col2\" class=\"data row0 col2\" >0.870369</td>\n",
       "      <td id=\"T_b33cf_row0_col3\" class=\"data row0 col3\" >0.875084</td>\n",
       "      <td id=\"T_b33cf_row0_col4\" class=\"data row0 col4\" >0.874687</td>\n",
       "      <td id=\"T_b33cf_row0_col5\" class=\"data row0 col5\" >0.872666</td>\n",
       "      <td id=\"T_b33cf_row0_col6\" class=\"data row0 col6\" >0.875072</td>\n",
       "      <td id=\"T_b33cf_row0_col7\" class=\"data row0 col7\" >0.874495</td>\n",
       "      <td id=\"T_b33cf_row0_col8\" class=\"data row0 col8\" >0.880366</td>\n",
       "      <td id=\"T_b33cf_row0_col9\" class=\"data row0 col9\" >0.880077</td>\n",
       "      <td id=\"T_b33cf_row0_col10\" class=\"data row0 col10\" >0.875472</td>\n",
       "    </tr>\n",
       "    <tr>\n",
       "      <th id=\"T_b33cf_level0_row1\" class=\"row_heading level0 row1\" >Log_limited</th>\n",
       "      <td id=\"T_b33cf_row1_col0\" class=\"data row1 col0\" >0.874988</td>\n",
       "      <td id=\"T_b33cf_row1_col1\" class=\"data row1 col1\" >0.876913</td>\n",
       "      <td id=\"T_b33cf_row1_col2\" class=\"data row1 col2\" >0.870369</td>\n",
       "      <td id=\"T_b33cf_row1_col3\" class=\"data row1 col3\" >0.875084</td>\n",
       "      <td id=\"T_b33cf_row1_col4\" class=\"data row1 col4\" >0.874687</td>\n",
       "      <td id=\"T_b33cf_row1_col5\" class=\"data row1 col5\" >0.872666</td>\n",
       "      <td id=\"T_b33cf_row1_col6\" class=\"data row1 col6\" >0.875072</td>\n",
       "      <td id=\"T_b33cf_row1_col7\" class=\"data row1 col7\" >0.874495</td>\n",
       "      <td id=\"T_b33cf_row1_col8\" class=\"data row1 col8\" >0.880366</td>\n",
       "      <td id=\"T_b33cf_row1_col9\" class=\"data row1 col9\" >0.880077</td>\n",
       "      <td id=\"T_b33cf_row1_col10\" class=\"data row1 col10\" >0.875472</td>\n",
       "    </tr>\n",
       "    <tr>\n",
       "      <th id=\"T_b33cf_level0_row2\" class=\"row_heading level0 row2\" >RFC_full</th>\n",
       "      <td id=\"T_b33cf_row2_col0\" class=\"data row2 col0\" >0.960158</td>\n",
       "      <td id=\"T_b33cf_row2_col1\" class=\"data row2 col1\" >0.961313</td>\n",
       "      <td id=\"T_b33cf_row2_col2\" class=\"data row2 col2\" >0.961024</td>\n",
       "      <td id=\"T_b33cf_row2_col3\" class=\"data row2 col3\" >0.964585</td>\n",
       "      <td id=\"T_b33cf_row2_col4\" class=\"data row2 col4\" >0.962175</td>\n",
       "      <td id=\"T_b33cf_row2_col5\" class=\"data row2 col5\" >0.959962</td>\n",
       "      <td id=\"T_b33cf_row2_col6\" class=\"data row2 col6\" >0.963041</td>\n",
       "      <td id=\"T_b33cf_row2_col7\" class=\"data row2 col7\" >0.959577</td>\n",
       "      <td id=\"T_b33cf_row2_col8\" class=\"data row2 col8\" >0.964004</td>\n",
       "      <td id=\"T_b33cf_row2_col9\" class=\"data row2 col9\" >0.964485</td>\n",
       "      <td id=\"T_b33cf_row2_col10\" class=\"data row2 col10\" >0.962032</td>\n",
       "    </tr>\n",
       "    <tr>\n",
       "      <th id=\"T_b33cf_level0_row3\" class=\"row_heading level0 row3\" >RFC_limited</th>\n",
       "      <td id=\"T_b33cf_row3_col0\" class=\"data row3 col0\" >0.845828</td>\n",
       "      <td id=\"T_b33cf_row3_col1\" class=\"data row3 col1\" >0.842749</td>\n",
       "      <td id=\"T_b33cf_row3_col2\" class=\"data row3 col2\" >0.849966</td>\n",
       "      <td id=\"T_b33cf_row3_col3\" class=\"data row3 col3\" >0.850063</td>\n",
       "      <td id=\"T_b33cf_row3_col4\" class=\"data row3 col4\" >0.843600</td>\n",
       "      <td id=\"T_b33cf_row3_col5\" class=\"data row3 col5\" >0.841963</td>\n",
       "      <td id=\"T_b33cf_row3_col6\" class=\"data row3 col6\" >0.846776</td>\n",
       "      <td id=\"T_b33cf_row3_col7\" class=\"data row3 col7\" >0.850337</td>\n",
       "      <td id=\"T_b33cf_row3_col8\" class=\"data row3 col8\" >0.853705</td>\n",
       "      <td id=\"T_b33cf_row3_col9\" class=\"data row3 col9\" >0.858037</td>\n",
       "      <td id=\"T_b33cf_row3_col10\" class=\"data row3 col10\" >0.848302</td>\n",
       "    </tr>\n",
       "    <tr>\n",
       "      <th id=\"T_b33cf_level0_row4\" class=\"row_heading level0 row4\" >KNN_scaled_full</th>\n",
       "      <td id=\"T_b33cf_row4_col0\" class=\"data row4 col0\" >0.914638</td>\n",
       "      <td id=\"T_b33cf_row4_col1\" class=\"data row4 col1\" >0.908960</td>\n",
       "      <td id=\"T_b33cf_row4_col2\" class=\"data row4 col2\" >0.911847</td>\n",
       "      <td id=\"T_b33cf_row4_col3\" class=\"data row4 col3\" >0.915119</td>\n",
       "      <td id=\"T_b33cf_row4_col4\" class=\"data row4 col4\" >0.911165</td>\n",
       "      <td id=\"T_b33cf_row4_col5\" class=\"data row4 col5\" >0.914533</td>\n",
       "      <td id=\"T_b33cf_row4_col6\" class=\"data row4 col6\" >0.912320</td>\n",
       "      <td id=\"T_b33cf_row4_col7\" class=\"data row4 col7\" >0.908566</td>\n",
       "      <td id=\"T_b33cf_row4_col8\" class=\"data row4 col8\" >0.915303</td>\n",
       "      <td id=\"T_b33cf_row4_col9\" class=\"data row4 col9\" >0.919538</td>\n",
       "      <td id=\"T_b33cf_row4_col10\" class=\"data row4 col10\" >0.913199</td>\n",
       "    </tr>\n",
       "    <tr>\n",
       "      <th id=\"T_b33cf_level0_row5\" class=\"row_heading level0 row5\" >KNN_scaled_limited</th>\n",
       "      <td id=\"T_b33cf_row5_col0\" class=\"data row5 col0\" >0.810317</td>\n",
       "      <td id=\"T_b33cf_row5_col1\" class=\"data row5 col1\" >0.809547</td>\n",
       "      <td id=\"T_b33cf_row5_col2\" class=\"data row5 col2\" >0.807911</td>\n",
       "      <td id=\"T_b33cf_row5_col3\" class=\"data row5 col3\" >0.815995</td>\n",
       "      <td id=\"T_b33cf_row5_col4\" class=\"data row5 col4\" >0.810010</td>\n",
       "      <td id=\"T_b33cf_row5_col5\" class=\"data row5 col5\" >0.810010</td>\n",
       "      <td id=\"T_b33cf_row5_col6\" class=\"data row5 col6\" >0.813859</td>\n",
       "      <td id=\"T_b33cf_row5_col7\" class=\"data row5 col7\" >0.818479</td>\n",
       "      <td id=\"T_b33cf_row5_col8\" class=\"data row5 col8\" >0.816073</td>\n",
       "      <td id=\"T_b33cf_row5_col9\" class=\"data row5 col9\" >0.819538</td>\n",
       "      <td id=\"T_b33cf_row5_col10\" class=\"data row5 col10\" >0.813174</td>\n",
       "    </tr>\n",
       "    <tr>\n",
       "      <th id=\"T_b33cf_level0_row6\" class=\"row_heading level0 row6\" >decision_tree_full</th>\n",
       "      <td id=\"T_b33cf_row6_col0\" class=\"data row6 col0\" >0.945722</td>\n",
       "      <td id=\"T_b33cf_row6_col1\" class=\"data row6 col1\" >0.945818</td>\n",
       "      <td id=\"T_b33cf_row6_col2\" class=\"data row6 col2\" >0.946781</td>\n",
       "      <td id=\"T_b33cf_row6_col3\" class=\"data row6 col3\" >0.949957</td>\n",
       "      <td id=\"T_b33cf_row6_col4\" class=\"data row6 col4\" >0.947064</td>\n",
       "      <td id=\"T_b33cf_row6_col5\" class=\"data row6 col5\" >0.946102</td>\n",
       "      <td id=\"T_b33cf_row6_col6\" class=\"data row6 col6\" >0.945428</td>\n",
       "      <td id=\"T_b33cf_row6_col7\" class=\"data row6 col7\" >0.947931</td>\n",
       "      <td id=\"T_b33cf_row6_col8\" class=\"data row6 col8\" >0.947931</td>\n",
       "      <td id=\"T_b33cf_row6_col9\" class=\"data row6 col9\" >0.947449</td>\n",
       "      <td id=\"T_b33cf_row6_col10\" class=\"data row6 col10\" >0.947018</td>\n",
       "    </tr>\n",
       "    <tr>\n",
       "      <th id=\"T_b33cf_level0_row7\" class=\"row_heading level0 row7\" >decision_tree_limited</th>\n",
       "      <td id=\"T_b33cf_row7_col0\" class=\"data row7 col0\" >0.785969</td>\n",
       "      <td id=\"T_b33cf_row7_col1\" class=\"data row7 col1\" >0.786835</td>\n",
       "      <td id=\"T_b33cf_row7_col2\" class=\"data row7 col2\" >0.793090</td>\n",
       "      <td id=\"T_b33cf_row7_col3\" class=\"data row7 col3\" >0.793090</td>\n",
       "      <td id=\"T_b33cf_row7_col4\" class=\"data row7 col4\" >0.785659</td>\n",
       "      <td id=\"T_b33cf_row7_col5\" class=\"data row7 col5\" >0.781521</td>\n",
       "      <td id=\"T_b33cf_row7_col6\" class=\"data row7 col6\" >0.787680</td>\n",
       "      <td id=\"T_b33cf_row7_col7\" class=\"data row7 col7\" >0.792012</td>\n",
       "      <td id=\"T_b33cf_row7_col8\" class=\"data row7 col8\" >0.793167</td>\n",
       "      <td id=\"T_b33cf_row7_col9\" class=\"data row7 col9\" >0.792685</td>\n",
       "      <td id=\"T_b33cf_row7_col10\" class=\"data row7 col10\" >0.789171</td>\n",
       "    </tr>\n",
       "  </tbody>\n",
       "</table>\n"
      ],
      "text/plain": [
       "<pandas.io.formats.style.Styler at 0x7fe677a6cc10>"
      ]
     },
     "execution_count": 25,
     "metadata": {},
     "output_type": "execute_result"
    }
   ],
   "source": [
    "df1 = df.transpose()\n",
    "df1[\"avg\"]= df1.mean(axis =1)\n",
    "df1.style.background_gradient(cmap =\"RdPu\" ,subset='avg')"
   ]
  },
  {
   "cell_type": "markdown",
   "id": "2b417f2d",
   "metadata": {
    "papermill": {
     "duration": 0.01422,
     "end_time": "2022-07-26T06:48:24.962154",
     "exception": false,
     "start_time": "2022-07-26T06:48:24.947934",
     "status": "completed"
    },
    "tags": []
   },
   "source": [
    "As the table shows, even in the worst performing model, the outcome of the passenger satisfaction could be predicted based on their data and rating of various services with over 75% accuracy and the highest correctly predicting the outcome with over 90% accuracy. \n",
    "\n",
    "Given that satisfaction is subjective, it may be susceptible to randomness and noise. That said, these scores are extremely high, especially under the random forest model. Therefore, stakeholders cannot ignore that passengers’ overall satisfaction can be predicted and are not independent of their experience flying with the airline. \n",
    "\n",
    "This is further emphasised by the results of models which focused on either passenger profiles or passenger experience, “RFC_passenger_data” and “RFC_passenger_experiecnce”. Whilst both had over 75% accuracy in predicting the satisfaction, passenger experience was better at predicting the overall satisfaction. This implies that the majority of the issues with dissatisfaction do not come from factors such as customer demography. In other words, if the airline wishes to improve customer satisfaction, marketing to secure a different demography may help but improving their services are likely to have the biggest impact. "
   ]
  },
  {
   "cell_type": "code",
   "execution_count": 26,
   "id": "67288197",
   "metadata": {
    "execution": {
     "iopub.execute_input": "2022-07-26T06:48:24.993353Z",
     "iopub.status.busy": "2022-07-26T06:48:24.992235Z",
     "iopub.status.idle": "2022-07-26T06:48:25.000828Z",
     "shell.execute_reply": "2022-07-26T06:48:24.999416Z"
    },
    "papermill": {
     "duration": 0.027087,
     "end_time": "2022-07-26T06:48:25.003393",
     "exception": false,
     "start_time": "2022-07-26T06:48:24.976306",
     "status": "completed"
    },
    "tags": []
   },
   "outputs": [],
   "source": [
    "X3 = train[['Male', 'disloyal Customer', 'Age', 'Personal Travel', 'Class_code','Flight Distance', \n",
    "       'Departure Delay in hour','Arrival Delay in hour',]]\n",
    "Y3 = train['satisfied']"
   ]
  },
  {
   "cell_type": "code",
   "execution_count": 27,
   "id": "8ccdb36c",
   "metadata": {
    "execution": {
     "iopub.execute_input": "2022-07-26T06:48:25.035700Z",
     "iopub.status.busy": "2022-07-26T06:48:25.034397Z",
     "iopub.status.idle": "2022-07-26T06:48:25.045425Z",
     "shell.execute_reply": "2022-07-26T06:48:25.044137Z"
    },
    "papermill": {
     "duration": 0.030008,
     "end_time": "2022-07-26T06:48:25.047931",
     "exception": false,
     "start_time": "2022-07-26T06:48:25.017923",
     "status": "completed"
    },
    "tags": []
   },
   "outputs": [],
   "source": [
    "X4 = train[['Inflight wifi service',\n",
    "       'Departure/Arrival time convenient', 'Ease of Online booking',\n",
    "       'Gate location', 'Food and drink', 'Online boarding', 'Seat comfort',\n",
    "       'Inflight entertainment', 'On-board service', 'Leg room service',\n",
    "       'Baggage handling', 'Checkin service', 'Inflight service',\n",
    "       'Cleanliness', ]]\n",
    "Y4 = train['satisfied']"
   ]
  },
  {
   "cell_type": "code",
   "execution_count": 28,
   "id": "7351f61f",
   "metadata": {
    "execution": {
     "iopub.execute_input": "2022-07-26T06:48:25.081989Z",
     "iopub.status.busy": "2022-07-26T06:48:25.080526Z",
     "iopub.status.idle": "2022-07-26T06:49:07.568075Z",
     "shell.execute_reply": "2022-07-26T06:49:07.566740Z"
    },
    "papermill": {
     "duration": 42.520101,
     "end_time": "2022-07-26T06:49:07.583804",
     "exception": false,
     "start_time": "2022-07-26T06:48:25.063703",
     "status": "completed"
    },
    "tags": []
   },
   "outputs": [
    {
     "name": "stdout",
     "output_type": "stream",
     "text": [
      "Cross-Validation Accuracy Scores - [0.75594264 0.76104321 0.76123568 0.75748244 0.75842156 0.75630414\n",
      " 0.75274302 0.76852743 0.75582291 0.76958614]\n",
      "Cross-Validation Accuracy Scores AVG - 0.75971091718985\n"
     ]
    }
   ],
   "source": [
    "RFC3 = cross_val_score(RandomForestClassifier(n_estimators=40), X3, Y3,cv=10)\n",
    "print('Cross-Validation Accuracy Scores -', RFC3)\n",
    "print('Cross-Validation Accuracy Scores AVG -', RFC3.mean())"
   ]
  },
  {
   "cell_type": "code",
   "execution_count": 29,
   "id": "71ef9529",
   "metadata": {
    "execution": {
     "iopub.execute_input": "2022-07-26T06:49:07.613583Z",
     "iopub.status.busy": "2022-07-26T06:49:07.612903Z",
     "iopub.status.idle": "2022-07-26T06:49:39.384880Z",
     "shell.execute_reply": "2022-07-26T06:49:39.383216Z"
    },
    "papermill": {
     "duration": 31.80504,
     "end_time": "2022-07-26T06:49:39.402665",
     "exception": false,
     "start_time": "2022-07-26T06:49:07.597625",
     "status": "completed"
    },
    "tags": []
   },
   "outputs": [
    {
     "name": "stdout",
     "output_type": "stream",
     "text": [
      "Cross-Validation Accuracy Scores - [0.94418247 0.94302762 0.94341257 0.94793571 0.94552454 0.94205967\n",
      " 0.94446583 0.94600577 0.94533205 0.94552454]\n",
      "Cross-Validation Accuracy Scores AVG - 0.944747078360271\n"
     ]
    }
   ],
   "source": [
    "RFC4 = cross_val_score(RandomForestClassifier(n_estimators=40), X4, Y4,cv=10)\n",
    "print('Cross-Validation Accuracy Scores -', RFC4)\n",
    "print('Cross-Validation Accuracy Scores AVG -', RFC4.mean())"
   ]
  },
  {
   "cell_type": "code",
   "execution_count": 30,
   "id": "af185bf2",
   "metadata": {
    "execution": {
     "iopub.execute_input": "2022-07-26T06:49:39.433070Z",
     "iopub.status.busy": "2022-07-26T06:49:39.431945Z",
     "iopub.status.idle": "2022-07-26T06:49:39.451571Z",
     "shell.execute_reply": "2022-07-26T06:49:39.450407Z"
    },
    "papermill": {
     "duration": 0.037555,
     "end_time": "2022-07-26T06:49:39.454244",
     "exception": false,
     "start_time": "2022-07-26T06:49:39.416689",
     "status": "completed"
    },
    "tags": []
   },
   "outputs": [
    {
     "data": {
      "text/html": [
       "<style type=\"text/css\">\n",
       "#T_025a3_row0_col10 {\n",
       "  background-color: #fff7f3;\n",
       "  color: #000000;\n",
       "}\n",
       "#T_025a3_row1_col10 {\n",
       "  background-color: #49006a;\n",
       "  color: #f1f1f1;\n",
       "}\n",
       "</style>\n",
       "<table id=\"T_025a3_\">\n",
       "  <thead>\n",
       "    <tr>\n",
       "      <th class=\"blank level0\" >&nbsp;</th>\n",
       "      <th class=\"col_heading level0 col0\" >0</th>\n",
       "      <th class=\"col_heading level0 col1\" >1</th>\n",
       "      <th class=\"col_heading level0 col2\" >2</th>\n",
       "      <th class=\"col_heading level0 col3\" >3</th>\n",
       "      <th class=\"col_heading level0 col4\" >4</th>\n",
       "      <th class=\"col_heading level0 col5\" >5</th>\n",
       "      <th class=\"col_heading level0 col6\" >6</th>\n",
       "      <th class=\"col_heading level0 col7\" >7</th>\n",
       "      <th class=\"col_heading level0 col8\" >8</th>\n",
       "      <th class=\"col_heading level0 col9\" >9</th>\n",
       "      <th class=\"col_heading level0 col10\" >avg</th>\n",
       "    </tr>\n",
       "  </thead>\n",
       "  <tbody>\n",
       "    <tr>\n",
       "      <th id=\"T_025a3_level0_row0\" class=\"row_heading level0 row0\" >RFC_Passenger_data</th>\n",
       "      <td id=\"T_025a3_row0_col0\" class=\"data row0 col0\" >0.755943</td>\n",
       "      <td id=\"T_025a3_row0_col1\" class=\"data row0 col1\" >0.761043</td>\n",
       "      <td id=\"T_025a3_row0_col2\" class=\"data row0 col2\" >0.761236</td>\n",
       "      <td id=\"T_025a3_row0_col3\" class=\"data row0 col3\" >0.757482</td>\n",
       "      <td id=\"T_025a3_row0_col4\" class=\"data row0 col4\" >0.758422</td>\n",
       "      <td id=\"T_025a3_row0_col5\" class=\"data row0 col5\" >0.756304</td>\n",
       "      <td id=\"T_025a3_row0_col6\" class=\"data row0 col6\" >0.752743</td>\n",
       "      <td id=\"T_025a3_row0_col7\" class=\"data row0 col7\" >0.768527</td>\n",
       "      <td id=\"T_025a3_row0_col8\" class=\"data row0 col8\" >0.755823</td>\n",
       "      <td id=\"T_025a3_row0_col9\" class=\"data row0 col9\" >0.769586</td>\n",
       "      <td id=\"T_025a3_row0_col10\" class=\"data row0 col10\" >0.759711</td>\n",
       "    </tr>\n",
       "    <tr>\n",
       "      <th id=\"T_025a3_level0_row1\" class=\"row_heading level0 row1\" >RFC_passenger_experience</th>\n",
       "      <td id=\"T_025a3_row1_col0\" class=\"data row1 col0\" >0.944182</td>\n",
       "      <td id=\"T_025a3_row1_col1\" class=\"data row1 col1\" >0.943028</td>\n",
       "      <td id=\"T_025a3_row1_col2\" class=\"data row1 col2\" >0.943413</td>\n",
       "      <td id=\"T_025a3_row1_col3\" class=\"data row1 col3\" >0.947936</td>\n",
       "      <td id=\"T_025a3_row1_col4\" class=\"data row1 col4\" >0.945525</td>\n",
       "      <td id=\"T_025a3_row1_col5\" class=\"data row1 col5\" >0.942060</td>\n",
       "      <td id=\"T_025a3_row1_col6\" class=\"data row1 col6\" >0.944466</td>\n",
       "      <td id=\"T_025a3_row1_col7\" class=\"data row1 col7\" >0.946006</td>\n",
       "      <td id=\"T_025a3_row1_col8\" class=\"data row1 col8\" >0.945332</td>\n",
       "      <td id=\"T_025a3_row1_col9\" class=\"data row1 col9\" >0.945525</td>\n",
       "      <td id=\"T_025a3_row1_col10\" class=\"data row1 col10\" >0.944747</td>\n",
       "    </tr>\n",
       "  </tbody>\n",
       "</table>\n"
      ],
      "text/plain": [
       "<pandas.io.formats.style.Styler at 0x7fe677a29d10>"
      ]
     },
     "execution_count": 30,
     "metadata": {},
     "output_type": "execute_result"
    }
   ],
   "source": [
    "models = { \"RFC_Passenger_data\": RFC3, \"RFC_passenger_experience\": RFC4 }\n",
    "df2 = pd.DataFrame(models)\n",
    "\n",
    "df_profile_service = df2.transpose()\n",
    "df_profile_service[\"avg\"]= df_profile_service.mean(axis=1)\n",
    "df_profile_service.style.background_gradient(cmap =\"RdPu\" ,subset='avg')"
   ]
  },
  {
   "cell_type": "markdown",
   "id": "67bd836f",
   "metadata": {
    "execution": {
     "iopub.execute_input": "2022-07-24T17:13:56.163570Z",
     "iopub.status.busy": "2022-07-24T17:13:56.163084Z"
    },
    "papermill": {
     "duration": 0.013671,
     "end_time": "2022-07-26T06:49:39.482460",
     "exception": false,
     "start_time": "2022-07-26T06:49:39.468789",
     "status": "completed"
    },
    "tags": []
   },
   "source": [
    "# Conclusion \n",
    "This was part two of a two part series examining customer satisfaction. As this part of the project highlights, the passengers overall satisfaction could be predicted with a high degree of accuracy. This implies that their satisfaction is not removed from their experience of the services and thus if the airline is keen to improve customer satisfaction, quality of the service must be improved. \n",
    "\n",
    "In a workplace, projects such as these may be the first step in improving the company’s effectiveness. In most cases, stakeholders who accept the issue of low satisfaction may not require such extensive evidence and argument to improve its services. However, there may be instances where stakeholders may not recognise an issue. In this case, a comprehensive argument such as this may be needed. \n",
    "\n",
    "# Appendix \n",
    "Below is the code for the SVC model. However this model is not recommended as due to the size of the data and the computational power required. \n"
   ]
  },
  {
   "cell_type": "code",
   "execution_count": 31,
   "id": "28689951",
   "metadata": {
    "execution": {
     "iopub.execute_input": "2022-07-26T06:49:39.512444Z",
     "iopub.status.busy": "2022-07-26T06:49:39.511675Z",
     "iopub.status.idle": "2022-07-26T06:49:39.516894Z",
     "shell.execute_reply": "2022-07-26T06:49:39.515849Z"
    },
    "papermill": {
     "duration": 0.022725,
     "end_time": "2022-07-26T06:49:39.519139",
     "exception": false,
     "start_time": "2022-07-26T06:49:39.496414",
     "status": "completed"
    },
    "tags": []
   },
   "outputs": [],
   "source": [
    "from sklearn.model_selection import train_test_split"
   ]
  },
  {
   "cell_type": "code",
   "execution_count": 32,
   "id": "ca881eaf",
   "metadata": {
    "execution": {
     "iopub.execute_input": "2022-07-26T06:49:39.549507Z",
     "iopub.status.busy": "2022-07-26T06:49:39.548844Z",
     "iopub.status.idle": "2022-07-26T06:49:39.585917Z",
     "shell.execute_reply": "2022-07-26T06:49:39.584921Z"
    },
    "papermill": {
     "duration": 0.055752,
     "end_time": "2022-07-26T06:49:39.588931",
     "exception": false,
     "start_time": "2022-07-26T06:49:39.533179",
     "status": "completed"
    },
    "tags": []
   },
   "outputs": [],
   "source": [
    "X_train,X_test, y_train, y_test = train_test_split(X1_scaled,Y1, test_size = .33, random_state = 360)"
   ]
  },
  {
   "cell_type": "code",
   "execution_count": 33,
   "id": "be5118bf",
   "metadata": {
    "execution": {
     "iopub.execute_input": "2022-07-26T06:49:39.621300Z",
     "iopub.status.busy": "2022-07-26T06:49:39.620851Z",
     "iopub.status.idle": "2022-07-26T06:51:34.248511Z",
     "shell.execute_reply": "2022-07-26T06:51:34.247211Z"
    },
    "papermill": {
     "duration": 114.6617,
     "end_time": "2022-07-26T06:51:34.265928",
     "exception": false,
     "start_time": "2022-07-26T06:49:39.604228",
     "status": "completed"
    },
    "tags": []
   },
   "outputs": [
    {
     "data": {
      "text/plain": [
       "SVC()"
      ]
     },
     "execution_count": 33,
     "metadata": {},
     "output_type": "execute_result"
    }
   ],
   "source": [
    "model = SVC()\n",
    "model.fit(X_train, y_train)"
   ]
  },
  {
   "cell_type": "code",
   "execution_count": 34,
   "id": "1128a040",
   "metadata": {
    "execution": {
     "iopub.execute_input": "2022-07-26T06:51:34.296709Z",
     "iopub.status.busy": "2022-07-26T06:51:34.296324Z",
     "iopub.status.idle": "2022-07-26T06:52:01.027379Z",
     "shell.execute_reply": "2022-07-26T06:52:01.026090Z"
    },
    "papermill": {
     "duration": 26.749393,
     "end_time": "2022-07-26T06:52:01.030126",
     "exception": false,
     "start_time": "2022-07-26T06:51:34.280733",
     "status": "completed"
    },
    "tags": []
   },
   "outputs": [],
   "source": [
    "predictions = model.predict(X_test)"
   ]
  },
  {
   "cell_type": "code",
   "execution_count": 35,
   "id": "34e71c0a",
   "metadata": {
    "execution": {
     "iopub.execute_input": "2022-07-26T06:52:01.061434Z",
     "iopub.status.busy": "2022-07-26T06:52:01.060969Z",
     "iopub.status.idle": "2022-07-26T06:52:01.066132Z",
     "shell.execute_reply": "2022-07-26T06:52:01.064958Z"
    },
    "papermill": {
     "duration": 0.023921,
     "end_time": "2022-07-26T06:52:01.068503",
     "exception": false,
     "start_time": "2022-07-26T06:52:01.044582",
     "status": "completed"
    },
    "tags": []
   },
   "outputs": [],
   "source": [
    "from sklearn.metrics import classification_report, confusion_matrix"
   ]
  },
  {
   "cell_type": "code",
   "execution_count": 36,
   "id": "99c6c89f",
   "metadata": {
    "execution": {
     "iopub.execute_input": "2022-07-26T06:52:01.098785Z",
     "iopub.status.busy": "2022-07-26T06:52:01.098378Z",
     "iopub.status.idle": "2022-07-26T06:52:01.169656Z",
     "shell.execute_reply": "2022-07-26T06:52:01.168398Z"
    },
    "papermill": {
     "duration": 0.089494,
     "end_time": "2022-07-26T06:52:01.172324",
     "exception": false,
     "start_time": "2022-07-26T06:52:01.082830",
     "status": "completed"
    },
    "tags": []
   },
   "outputs": [
    {
     "name": "stdout",
     "output_type": "stream",
     "text": [
      "[[18765   653]\n",
      " [  956 13915]]\n",
      "              precision    recall  f1-score   support\n",
      "\n",
      "           0       0.95      0.97      0.96     19418\n",
      "           1       0.96      0.94      0.95     14871\n",
      "\n",
      "    accuracy                           0.95     34289\n",
      "   macro avg       0.95      0.95      0.95     34289\n",
      "weighted avg       0.95      0.95      0.95     34289\n",
      "\n"
     ]
    }
   ],
   "source": [
    "print(confusion_matrix(y_test, predictions))\n",
    "print(classification_report (y_test, predictions))\n"
   ]
  }
 ],
 "metadata": {
  "kernelspec": {
   "display_name": "Python 3",
   "language": "python",
   "name": "python3"
  },
  "language_info": {
   "codemirror_mode": {
    "name": "ipython",
    "version": 3
   },
   "file_extension": ".py",
   "mimetype": "text/x-python",
   "name": "python",
   "nbconvert_exporter": "python",
   "pygments_lexer": "ipython3",
   "version": "3.7.12"
  },
  "papermill": {
   "default_parameters": {},
   "duration": 503.444363,
   "end_time": "2022-07-26T06:52:02.012737",
   "environment_variables": {},
   "exception": null,
   "input_path": "__notebook__.ipynb",
   "output_path": "__notebook__.ipynb",
   "parameters": {},
   "start_time": "2022-07-26T06:43:38.568374",
   "version": "2.3.4"
  }
 },
 "nbformat": 4,
 "nbformat_minor": 5
}
